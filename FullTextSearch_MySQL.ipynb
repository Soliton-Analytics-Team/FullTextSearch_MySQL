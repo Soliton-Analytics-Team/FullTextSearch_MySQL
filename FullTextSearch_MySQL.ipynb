{
  "cells": [
    {
      "cell_type": "markdown",
      "metadata": {
        "id": "1K0_sJIHCjL6"
      },
      "source": [
        "# Colabで全文検索（その１：MySQL編）"
      ]
    },
    {
      "cell_type": "markdown",
      "metadata": {
        "id": "rweC4VgbC9AR"
      },
      "source": [
        "各種全文検索ツールをColabで動かしてみるシリーズです。全7回の予定です。今回はMySQLです。\n",
        "\n",
        "処理時間の計測はストレージのキャッシュとの兼ね合いがあるので、2回測ります。2回目は全てがメモリに載った状態での性能評価になります。ただ1回目もデータを投入した直後なので、メモリに載ってしまっている可能性があります。"
      ]
    },
    {
      "cell_type": "markdown",
      "metadata": {
        "id": "ontwwvVwWwmt"
      },
      "source": [
        "## 準備\n",
        "\n",
        "まずは検索対象のテキストを日本語wikiから取得して、Google Driveに保存します。（※ Google Driveに約１GBの空き容量が必要です。）"
      ]
    },
    {
      "cell_type": "markdown",
      "metadata": {
        "id": "LCfigMZ6ECxz"
      },
      "source": [
        "Google Driveのマウント"
      ]
    },
    {
      "cell_type": "code",
      "execution_count": 2,
      "metadata": {
        "colab": {
          "base_uri": "https://localhost:8080/"
        },
        "id": "7BTJxe9silgT",
        "outputId": "84107f1b-0e2f-42d3-ad4c-e2b5794bc0e2"
      },
      "outputs": [
        {
          "name": "stdout",
          "output_type": "stream",
          "text": [
            "Mounted at /content/drive\n"
          ]
        }
      ],
      "source": [
        "from google.colab import drive\n",
        "drive.mount('/content/drive')"
      ]
    },
    {
      "cell_type": "markdown",
      "metadata": {
        "id": "gppvHDHcENfo"
      },
      "source": [
        "jawikiの取得とjson形式への変換。90分ほど時間がかかります。他の全文検索シリーズでも同じデータを使うので、他の記事も試したい方は wiki.json.bz2 を捨てずに残しておくことをおすすめします。"
      ]
    },
    {
      "cell_type": "code",
      "execution_count": 5,
      "metadata": {
        "colab": {
          "base_uri": "https://localhost:8080/"
        },
        "id": "2QyLMBV2cK_e",
        "outputId": "2340cdff-8cdc-4b43-e7be-848b8c18674d"
      },
      "outputs": [
        {
          "name": "stdout",
          "output_type": "stream",
          "text": [
            "/content\n",
            "Requirement already satisfied: wikiextractor in /usr/local/lib/python3.7/dist-packages (3.0.6)\n",
            "INFO: Starting page extraction from jawiki-latest-pages-articles.xml.bz2.\n",
            "INFO: Using 4 extract processes.\n",
            "INFO: Extracted 100000 articles (266.4 art/s)\n",
            "INFO: Extracted 200000 articles (409.4 art/s)\n",
            "INFO: Extracted 300000 articles (504.7 art/s)\n",
            "INFO: Extracted 400000 articles (556.6 art/s)\n",
            "INFO: Extracted 500000 articles (610.1 art/s)\n",
            "INFO: Extracted 600000 articles (650.8 art/s)\n",
            "INFO: Extracted 700000 articles (659.1 art/s)\n",
            "INFO: Extracted 800000 articles (679.1 art/s)\n",
            "INFO: Extracted 900000 articles (614.8 art/s)\n",
            "INFO: Extracted 1000000 articles (645.4 art/s)\n",
            "INFO: Extracted 1100000 articles (654.3 art/s)\n",
            "INFO: Extracted 1200000 articles (637.7 art/s)\n",
            "INFO: Extracted 1300000 articles (610.6 art/s)\n",
            "INFO: Extracted 1400000 articles (593.2 art/s)\n",
            "INFO: Extracted 1500000 articles (641.7 art/s)\n",
            "INFO: Extracted 1600000 articles (634.1 art/s)\n",
            "INFO: Extracted 1700000 articles (602.7 art/s)\n",
            "INFO: Extracted 1800000 articles (629.0 art/s)\n",
            "INFO: Extracted 1900000 articles (621.6 art/s)\n",
            "INFO: Extracted 2000000 articles (683.6 art/s)\n",
            "INFO: Extracted 2100000 articles (688.4 art/s)\n",
            "INFO: Finished 4-process extraction of 2119081 articles in 3690.6s (574.2 art/s)\n",
            "CPU times: user 26.7 s, sys: 3.28 s, total: 30 s\n",
            "Wall time: 1h 1min 34s\n"
          ]
        }
      ],
      "source": [
        "%%time\n",
        "%cd /content/\n",
        "import os\n",
        "if not os.path.exists('/content/drive/MyDrive/wiki.json.bz2'):\n",
        "    !wget https://dumps.wikimedia.org/jawiki/latest/jawiki-latest-pages-articles.xml.bz2\n",
        "    !pip install wikiextractor\n",
        "    !python -m wikiextractor.WikiExtractor --no-templates --processes 4 --json -b 10G -o - jawiki-latest-pages-articles.xml.bz2 | bzip2 -c > /content/drive/MyDrive/wiki.json.bz2"
      ]
    },
    {
      "cell_type": "markdown",
      "metadata": {
        "id": "eHlb058dEq-V"
      },
      "source": [
        "json形式に変換されたデータを確認"
      ]
    },
    {
      "cell_type": "code",
      "execution_count": 6,
      "metadata": {
        "colab": {
          "base_uri": "https://localhost:8080/"
        },
        "id": "B9xEcGcQrimv",
        "outputId": "c86ac60f-1874-4d7e-d9a3-0342385777b5"
      },
      "outputs": [
        {
          "name": "stdout",
          "output_type": "stream",
          "text": [
            "アンパサンド\tアンパサンド（&amp;, ）は、並立助詞「…と…」を意味する記号である。ラテン\n",
            "言語\t言語（げんご）は、広辞苑や大辞泉には次のように解説されている。『日本大百科事典』\n",
            "日本語\t 日本語（にほんご、にっぽんご）は、日本国内や、かつての日本領だった国、そして日\n",
            "地理学\t地理学（ちりがく、、、伊：geografia、）は、。地域や空間、場所、自然環境\n",
            "EU (曖昧さ回避)\tEU\n",
            "国の一覧\t国の一覧（くにのいちらん）は、世界の独立国の一覧。対象.国際法上国家と言えるか否\n"
          ]
        }
      ],
      "source": [
        "import json\n",
        "import bz2\n",
        "\n",
        "with bz2.open('/content/drive/MyDrive/wiki.json.bz2', 'rt', encoding='utf-8') as fin:\n",
        "    for n, line in enumerate(fin):\n",
        "        data = json.loads(line)\n",
        "        print(data['title'].strip(), data['text'].replace('\\n', '')[:40], sep='\\t')\n",
        "        if n == 5:\n",
        "            break"
      ]
    },
    {
      "cell_type": "markdown",
      "metadata": {
        "id": "GQ53mxqQFWNP"
      },
      "source": [
        "## MySQLのインストール"
      ]
    },
    {
      "cell_type": "code",
      "execution_count": 7,
      "metadata": {
        "colab": {
          "base_uri": "https://localhost:8080/"
        },
        "id": "28b04YaMhbY2",
        "outputId": "70a83385-024d-41d8-88cf-d220d1de6f54"
      },
      "outputs": [
        {
          "name": "stdout",
          "output_type": "stream",
          "text": [
            "\u001b[33m\r0% [Working]\u001b[0m\r            \rGet:1 http://security.ubuntu.com/ubuntu bionic-security InRelease [88.7 kB]\n",
            "Get:2 https://cloud.r-project.org/bin/linux/ubuntu bionic-cran40/ InRelease [3,626 B]\n",
            "Ign:3 https://developer.download.nvidia.com/compute/cuda/repos/ubuntu1804/x86_64  InRelease\n",
            "Ign:4 https://developer.download.nvidia.com/compute/machine-learning/repos/ubuntu1804/x86_64  InRelease\n",
            "Hit:5 http://archive.ubuntu.com/ubuntu bionic InRelease\n",
            "Get:6 http://ppa.launchpad.net/c2d4u.team/c2d4u4.0+/ubuntu bionic InRelease [15.9 kB]\n",
            "Get:7 https://developer.download.nvidia.com/compute/cuda/repos/ubuntu1804/x86_64  Release [696 B]\n",
            "Hit:8 https://developer.download.nvidia.com/compute/machine-learning/repos/ubuntu1804/x86_64  Release\n",
            "Get:9 https://developer.download.nvidia.com/compute/cuda/repos/ubuntu1804/x86_64  Release.gpg [836 B]\n",
            "Get:10 http://archive.ubuntu.com/ubuntu bionic-updates InRelease [88.7 kB]\n",
            "Get:11 http://security.ubuntu.com/ubuntu bionic-security/restricted amd64 Packages [806 kB]\n",
            "Get:12 http://security.ubuntu.com/ubuntu bionic-security/main amd64 Packages [2,594 kB]\n",
            "Get:13 http://security.ubuntu.com/ubuntu bionic-security/universe amd64 Packages [1,474 kB]\n",
            "Hit:14 http://ppa.launchpad.net/cran/libgit2/ubuntu bionic InRelease\n",
            "Get:15 http://security.ubuntu.com/ubuntu bionic-security/multiverse amd64 Packages [21.1 kB]\n",
            "Get:17 http://archive.ubuntu.com/ubuntu bionic-backports InRelease [74.6 kB]\n",
            "Get:18 https://developer.download.nvidia.com/compute/cuda/repos/ubuntu1804/x86_64  Packages [917 kB]\n",
            "Get:19 http://ppa.launchpad.net/deadsnakes/ppa/ubuntu bionic InRelease [15.9 kB]\n",
            "Get:20 http://archive.ubuntu.com/ubuntu bionic-updates/multiverse amd64 Packages [29.0 kB]\n",
            "Get:21 http://archive.ubuntu.com/ubuntu bionic-updates/main amd64 Packages [3,034 kB]\n",
            "Get:22 http://ppa.launchpad.net/graphics-drivers/ppa/ubuntu bionic InRelease [21.3 kB]\n",
            "Get:23 http://ppa.launchpad.net/c2d4u.team/c2d4u4.0+/ubuntu bionic/main Sources [1,827 kB]\n",
            "Get:24 http://archive.ubuntu.com/ubuntu bionic-updates/universe amd64 Packages [2,252 kB]\n",
            "Get:25 http://archive.ubuntu.com/ubuntu bionic-updates/restricted amd64 Packages [840 kB]\n",
            "Get:26 http://ppa.launchpad.net/c2d4u.team/c2d4u4.0+/ubuntu bionic/main amd64 Packages [937 kB]\n",
            "Get:27 http://ppa.launchpad.net/deadsnakes/ppa/ubuntu bionic/main amd64 Packages [45.3 kB]\n",
            "Get:28 http://ppa.launchpad.net/graphics-drivers/ppa/ubuntu bionic/main amd64 Packages [42.8 kB]\n",
            "Fetched 15.1 MB in 6s (2,330 kB/s)\n",
            "Reading package lists... Done\n",
            "Building dependency tree       \n",
            "Reading state information... Done\n",
            "74 packages can be upgraded. Run 'apt list --upgradable' to see them.\n",
            "Reading package lists... Done\n",
            "Building dependency tree       \n",
            "Reading state information... Done\n",
            "The following packages were automatically installed and are no longer required:\n",
            "  cuda-command-line-tools-10-0 cuda-command-line-tools-10-1\n",
            "  cuda-command-line-tools-11-0 cuda-compiler-10-0 cuda-compiler-10-1\n",
            "  cuda-compiler-11-0 cuda-cuobjdump-10-0 cuda-cuobjdump-10-1\n",
            "  cuda-cuobjdump-11-0 cuda-cupti-10-0 cuda-cupti-10-1 cuda-cupti-11-0\n",
            "  cuda-cupti-dev-11-0 cuda-documentation-10-0 cuda-documentation-10-1\n",
            "  cuda-documentation-11-0 cuda-documentation-11-1 cuda-gdb-10-0 cuda-gdb-10-1\n",
            "  cuda-gdb-11-0 cuda-gpu-library-advisor-10-0 cuda-gpu-library-advisor-10-1\n",
            "  cuda-libraries-10-0 cuda-libraries-10-1 cuda-libraries-11-0\n",
            "  cuda-memcheck-10-0 cuda-memcheck-10-1 cuda-memcheck-11-0 cuda-nsight-10-0\n",
            "  cuda-nsight-10-1 cuda-nsight-11-0 cuda-nsight-11-1 cuda-nsight-compute-10-0\n",
            "  cuda-nsight-compute-10-1 cuda-nsight-compute-11-0 cuda-nsight-compute-11-1\n",
            "  cuda-nsight-systems-10-1 cuda-nsight-systems-11-0 cuda-nsight-systems-11-1\n",
            "  cuda-nvcc-10-0 cuda-nvcc-10-1 cuda-nvcc-11-0 cuda-nvdisasm-10-0\n",
            "  cuda-nvdisasm-10-1 cuda-nvdisasm-11-0 cuda-nvml-dev-10-0 cuda-nvml-dev-10-1\n",
            "  cuda-nvml-dev-11-0 cuda-nvprof-10-0 cuda-nvprof-10-1 cuda-nvprof-11-0\n",
            "  cuda-nvprune-10-0 cuda-nvprune-10-1 cuda-nvprune-11-0 cuda-nvtx-10-0\n",
            "  cuda-nvtx-10-1 cuda-nvtx-11-0 cuda-nvvp-10-0 cuda-nvvp-10-1 cuda-nvvp-11-0\n",
            "  cuda-nvvp-11-1 cuda-samples-10-0 cuda-samples-10-1 cuda-samples-11-0\n",
            "  cuda-samples-11-1 cuda-sanitizer-11-0 cuda-sanitizer-api-10-1\n",
            "  cuda-toolkit-10-0 cuda-toolkit-10-1 cuda-toolkit-11-0 cuda-toolkit-11-1\n",
            "  cuda-tools-10-0 cuda-tools-10-1 cuda-tools-11-0 cuda-tools-11-1\n",
            "  cuda-visual-tools-10-0 cuda-visual-tools-10-1 cuda-visual-tools-11-0\n",
            "  cuda-visual-tools-11-1 default-jre dkms freeglut3 freeglut3-dev\n",
            "  keyboard-configuration libargon2-0 libcap2 libcryptsetup12\n",
            "  libdevmapper1.02.1 libfontenc1 libidn11 libip4tc0 libjansson4\n",
            "  libnvidia-cfg1-510 libnvidia-common-460 libnvidia-common-510\n",
            "  libnvidia-extra-510 libnvidia-fbc1-510 libnvidia-gl-510 libpam-systemd\n",
            "  libpolkit-agent-1-0 libpolkit-backend-1-0 libpolkit-gobject-1-0 libxfont2\n",
            "  libxi-dev libxkbfile1 libxmu-dev libxmu-headers libxnvctrl0 libxtst6\n",
            "  nsight-compute-2020.2.1 nsight-compute-2022.1.0 nsight-systems-2020.3.2\n",
            "  nsight-systems-2020.3.4 nsight-systems-2021.5.2 nvidia-dkms-510\n",
            "  nvidia-kernel-common-510 nvidia-kernel-source-510 nvidia-modprobe\n",
            "  nvidia-settings openjdk-11-jre policykit-1 policykit-1-gnome python3-xkit\n",
            "  screen-resolution-extra systemd systemd-sysv udev x11-xkb-utils\n",
            "  xserver-common xserver-xorg-core-hwe-18.04 xserver-xorg-video-nvidia-510\n",
            "Use 'sudo apt autoremove' to remove them.\n",
            "The following additional packages will be installed:\n",
            "  libcgi-fast-perl libcgi-pm-perl libencode-locale-perl libevent-core-2.1-6\n",
            "  libfcgi-perl libhtml-parser-perl libhtml-tagset-perl libhtml-template-perl\n",
            "  libhttp-date-perl libhttp-message-perl libio-html-perl\n",
            "  liblwp-mediatypes-perl libtimedate-perl liburi-perl mysql-client-5.7\n",
            "  mysql-client-core-5.7 mysql-server-5.7 mysql-server-core-5.7\n",
            "Suggested packages:\n",
            "  libdata-dump-perl libipc-sharedcache-perl libwww-perl mailx tinyca\n",
            "The following NEW packages will be installed:\n",
            "  libcgi-fast-perl libcgi-pm-perl libencode-locale-perl libevent-core-2.1-6\n",
            "  libfcgi-perl libhtml-parser-perl libhtml-tagset-perl libhtml-template-perl\n",
            "  libhttp-date-perl libhttp-message-perl libio-html-perl\n",
            "  liblwp-mediatypes-perl libtimedate-perl liburi-perl mysql-client\n",
            "  mysql-client-5.7 mysql-client-core-5.7 mysql-server mysql-server-5.7\n",
            "  mysql-server-core-5.7\n",
            "0 upgraded, 20 newly installed, 0 to remove and 74 not upgraded.\n",
            "Need to get 19.6 MB of archives.\n",
            "After this operation, 156 MB of additional disk space will be used.\n",
            "Get:1 http://archive.ubuntu.com/ubuntu bionic-updates/main amd64 mysql-client-core-5.7 amd64 5.7.37-0ubuntu0.18.04.1 [6,635 kB]\n",
            "Get:2 http://archive.ubuntu.com/ubuntu bionic-updates/main amd64 mysql-client-5.7 amd64 5.7.37-0ubuntu0.18.04.1 [1,943 kB]\n",
            "Get:3 http://archive.ubuntu.com/ubuntu bionic-updates/main amd64 mysql-server-core-5.7 amd64 5.7.37-0ubuntu0.18.04.1 [7,425 kB]\n",
            "Get:4 http://archive.ubuntu.com/ubuntu bionic/main amd64 libevent-core-2.1-6 amd64 2.1.8-stable-4build1 [85.9 kB]\n",
            "Get:5 http://archive.ubuntu.com/ubuntu bionic-updates/main amd64 mysql-server-5.7 amd64 5.7.37-0ubuntu0.18.04.1 [2,903 kB]\n",
            "Get:6 http://archive.ubuntu.com/ubuntu bionic/main amd64 libhtml-tagset-perl all 3.20-3 [12.1 kB]\n",
            "Get:7 http://archive.ubuntu.com/ubuntu bionic/main amd64 liburi-perl all 1.73-1 [77.2 kB]\n",
            "Get:8 http://archive.ubuntu.com/ubuntu bionic/main amd64 libhtml-parser-perl amd64 3.72-3build1 [85.9 kB]\n",
            "Get:9 http://archive.ubuntu.com/ubuntu bionic/main amd64 libcgi-pm-perl all 4.38-1 [185 kB]\n",
            "Get:10 http://archive.ubuntu.com/ubuntu bionic/main amd64 libfcgi-perl amd64 0.78-2build1 [32.8 kB]\n",
            "Get:11 http://archive.ubuntu.com/ubuntu bionic/main amd64 libcgi-fast-perl all 1:2.13-1 [9,940 B]\n",
            "Get:12 http://archive.ubuntu.com/ubuntu bionic/main amd64 libencode-locale-perl all 1.05-1 [12.3 kB]\n",
            "Get:13 http://archive.ubuntu.com/ubuntu bionic/main amd64 libhtml-template-perl all 2.97-1 [59.0 kB]\n",
            "Get:14 http://archive.ubuntu.com/ubuntu bionic/main amd64 libtimedate-perl all 2.3000-2 [37.5 kB]\n",
            "Get:15 http://archive.ubuntu.com/ubuntu bionic/main amd64 libhttp-date-perl all 6.02-1 [10.4 kB]\n",
            "Get:16 http://archive.ubuntu.com/ubuntu bionic/main amd64 libio-html-perl all 1.001-1 [14.9 kB]\n",
            "Get:17 http://archive.ubuntu.com/ubuntu bionic/main amd64 liblwp-mediatypes-perl all 6.02-1 [21.7 kB]\n",
            "Get:18 http://archive.ubuntu.com/ubuntu bionic/main amd64 libhttp-message-perl all 6.14-1 [72.1 kB]\n",
            "Get:19 http://archive.ubuntu.com/ubuntu bionic-updates/main amd64 mysql-client all 5.7.37-0ubuntu0.18.04.1 [9,820 B]\n",
            "Get:20 http://archive.ubuntu.com/ubuntu bionic-updates/main amd64 mysql-server all 5.7.37-0ubuntu0.18.04.1 [9,944 B]\n",
            "Fetched 19.6 MB in 19s (1,031 kB/s)\n",
            "debconf: unable to initialize frontend: Dialog\n",
            "debconf: (No usable dialog-like program is installed, so the dialog based frontend cannot be used. at /usr/share/perl5/Debconf/FrontEnd/Dialog.pm line 76, <> line 20.)\n",
            "debconf: falling back to frontend: Readline\n",
            "debconf: unable to initialize frontend: Readline\n",
            "debconf: (This frontend requires a controlling tty.)\n",
            "debconf: falling back to frontend: Teletype\n",
            "dpkg-preconfigure: unable to re-open stdin: \n",
            "Selecting previously unselected package mysql-client-core-5.7.\n",
            "(Reading database ... 155113 files and directories currently installed.)\n",
            "Preparing to unpack .../00-mysql-client-core-5.7_5.7.37-0ubuntu0.18.04.1_amd64.deb ...\n",
            "Unpacking mysql-client-core-5.7 (5.7.37-0ubuntu0.18.04.1) ...\n",
            "Selecting previously unselected package mysql-client-5.7.\n",
            "Preparing to unpack .../01-mysql-client-5.7_5.7.37-0ubuntu0.18.04.1_amd64.deb ...\n",
            "Unpacking mysql-client-5.7 (5.7.37-0ubuntu0.18.04.1) ...\n",
            "Selecting previously unselected package mysql-server-core-5.7.\n",
            "Preparing to unpack .../02-mysql-server-core-5.7_5.7.37-0ubuntu0.18.04.1_amd64.deb ...\n",
            "Unpacking mysql-server-core-5.7 (5.7.37-0ubuntu0.18.04.1) ...\n",
            "Selecting previously unselected package libevent-core-2.1-6:amd64.\n",
            "Preparing to unpack .../03-libevent-core-2.1-6_2.1.8-stable-4build1_amd64.deb ...\n",
            "Unpacking libevent-core-2.1-6:amd64 (2.1.8-stable-4build1) ...\n",
            "Selecting previously unselected package mysql-server-5.7.\n",
            "Preparing to unpack .../04-mysql-server-5.7_5.7.37-0ubuntu0.18.04.1_amd64.deb ...\n",
            "debconf: unable to initialize frontend: Dialog\n",
            "debconf: (No usable dialog-like program is installed, so the dialog based frontend cannot be used. at /usr/share/perl5/Debconf/FrontEnd/Dialog.pm line 76.)\n",
            "debconf: falling back to frontend: Readline\n",
            "Unpacking mysql-server-5.7 (5.7.37-0ubuntu0.18.04.1) ...\n",
            "Selecting previously unselected package libhtml-tagset-perl.\n",
            "Preparing to unpack .../05-libhtml-tagset-perl_3.20-3_all.deb ...\n",
            "Unpacking libhtml-tagset-perl (3.20-3) ...\n",
            "Selecting previously unselected package liburi-perl.\n",
            "Preparing to unpack .../06-liburi-perl_1.73-1_all.deb ...\n",
            "Unpacking liburi-perl (1.73-1) ...\n",
            "Selecting previously unselected package libhtml-parser-perl.\n",
            "Preparing to unpack .../07-libhtml-parser-perl_3.72-3build1_amd64.deb ...\n",
            "Unpacking libhtml-parser-perl (3.72-3build1) ...\n",
            "Selecting previously unselected package libcgi-pm-perl.\n",
            "Preparing to unpack .../08-libcgi-pm-perl_4.38-1_all.deb ...\n",
            "Unpacking libcgi-pm-perl (4.38-1) ...\n",
            "Selecting previously unselected package libfcgi-perl.\n",
            "Preparing to unpack .../09-libfcgi-perl_0.78-2build1_amd64.deb ...\n",
            "Unpacking libfcgi-perl (0.78-2build1) ...\n",
            "Selecting previously unselected package libcgi-fast-perl.\n",
            "Preparing to unpack .../10-libcgi-fast-perl_1%3a2.13-1_all.deb ...\n",
            "Unpacking libcgi-fast-perl (1:2.13-1) ...\n",
            "Selecting previously unselected package libencode-locale-perl.\n",
            "Preparing to unpack .../11-libencode-locale-perl_1.05-1_all.deb ...\n",
            "Unpacking libencode-locale-perl (1.05-1) ...\n",
            "Selecting previously unselected package libhtml-template-perl.\n",
            "Preparing to unpack .../12-libhtml-template-perl_2.97-1_all.deb ...\n",
            "Unpacking libhtml-template-perl (2.97-1) ...\n",
            "Selecting previously unselected package libtimedate-perl.\n",
            "Preparing to unpack .../13-libtimedate-perl_2.3000-2_all.deb ...\n",
            "Unpacking libtimedate-perl (2.3000-2) ...\n",
            "Selecting previously unselected package libhttp-date-perl.\n",
            "Preparing to unpack .../14-libhttp-date-perl_6.02-1_all.deb ...\n",
            "Unpacking libhttp-date-perl (6.02-1) ...\n",
            "Selecting previously unselected package libio-html-perl.\n",
            "Preparing to unpack .../15-libio-html-perl_1.001-1_all.deb ...\n",
            "Unpacking libio-html-perl (1.001-1) ...\n",
            "Selecting previously unselected package liblwp-mediatypes-perl.\n",
            "Preparing to unpack .../16-liblwp-mediatypes-perl_6.02-1_all.deb ...\n",
            "Unpacking liblwp-mediatypes-perl (6.02-1) ...\n",
            "Selecting previously unselected package libhttp-message-perl.\n",
            "Preparing to unpack .../17-libhttp-message-perl_6.14-1_all.deb ...\n",
            "Unpacking libhttp-message-perl (6.14-1) ...\n",
            "Selecting previously unselected package mysql-client.\n",
            "Preparing to unpack .../18-mysql-client_5.7.37-0ubuntu0.18.04.1_all.deb ...\n",
            "Unpacking mysql-client (5.7.37-0ubuntu0.18.04.1) ...\n",
            "Selecting previously unselected package mysql-server.\n",
            "Preparing to unpack .../19-mysql-server_5.7.37-0ubuntu0.18.04.1_all.deb ...\n",
            "Unpacking mysql-server (5.7.37-0ubuntu0.18.04.1) ...\n",
            "Setting up libhtml-tagset-perl (3.20-3) ...\n",
            "Setting up libevent-core-2.1-6:amd64 (2.1.8-stable-4build1) ...\n",
            "Setting up libencode-locale-perl (1.05-1) ...\n",
            "Setting up mysql-server-core-5.7 (5.7.37-0ubuntu0.18.04.1) ...\n",
            "Setting up libtimedate-perl (2.3000-2) ...\n",
            "Setting up libio-html-perl (1.001-1) ...\n",
            "Setting up liblwp-mediatypes-perl (6.02-1) ...\n",
            "Setting up liburi-perl (1.73-1) ...\n",
            "Setting up libhtml-parser-perl (3.72-3build1) ...\n",
            "Setting up libcgi-pm-perl (4.38-1) ...\n",
            "Setting up mysql-client-core-5.7 (5.7.37-0ubuntu0.18.04.1) ...\n",
            "Setting up libfcgi-perl (0.78-2build1) ...\n",
            "Setting up libhttp-date-perl (6.02-1) ...\n",
            "Setting up libhtml-template-perl (2.97-1) ...\n",
            "Setting up libcgi-fast-perl (1:2.13-1) ...\n",
            "Setting up libhttp-message-perl (6.14-1) ...\n",
            "Setting up mysql-client-5.7 (5.7.37-0ubuntu0.18.04.1) ...\n",
            "Setting up mysql-client (5.7.37-0ubuntu0.18.04.1) ...\n",
            "Setting up mysql-server-5.7 (5.7.37-0ubuntu0.18.04.1) ...\n",
            "debconf: unable to initialize frontend: Dialog\n",
            "debconf: (No usable dialog-like program is installed, so the dialog based frontend cannot be used. at /usr/share/perl5/Debconf/FrontEnd/Dialog.pm line 76.)\n",
            "debconf: falling back to frontend: Readline\n",
            "invoke-rc.d: could not determine current runlevel\n",
            "invoke-rc.d: policy-rc.d denied execution of stop.\n",
            "update-alternatives: using /etc/mysql/mysql.cnf to provide /etc/mysql/my.cnf (my.cnf) in auto mode\n",
            "Renaming removed key_buffer and myisam-recover options (if present)\n",
            "Created symlink /etc/systemd/system/multi-user.target.wants/mysql.service → /lib/systemd/system/mysql.service.\n",
            "invoke-rc.d: could not determine current runlevel\n",
            "invoke-rc.d: policy-rc.d denied execution of start.\n",
            "Setting up mysql-server (5.7.37-0ubuntu0.18.04.1) ...\n",
            "Processing triggers for systemd (237-3ubuntu10.53) ...\n",
            "Processing triggers for man-db (2.8.3-2ubuntu0.1) ...\n",
            "Processing triggers for libc-bin (2.27-3ubuntu1.3) ...\n",
            "/sbin/ldconfig.real: /usr/local/lib/python3.7/dist-packages/ideep4py/lib/libmkldnn.so.0 is not a symbolic link\n",
            "\n"
          ]
        }
      ],
      "source": [
        "!sudo apt update\n",
        "!sudo apt install mysql-server mysql-client"
      ]
    },
    {
      "cell_type": "code",
      "execution_count": 8,
      "metadata": {
        "colab": {
          "base_uri": "https://localhost:8080/"
        },
        "id": "dJPGI5UfhjGF",
        "outputId": "0d63b8bb-fae3-42a7-ca90-f54dbe3bfb03"
      },
      "outputs": [
        {
          "name": "stdout",
          "output_type": "stream",
          "text": [
            "mysql  Ver 14.14 Distrib 5.7.37, for Linux (x86_64) using  EditLine wrapper\n"
          ]
        }
      ],
      "source": [
        "!mysql --version"
      ]
    },
    {
      "cell_type": "markdown",
      "metadata": {
        "id": "qVY52zRaGNtO"
      },
      "source": [
        "## MySQLの立ち上げ"
      ]
    },
    {
      "cell_type": "code",
      "execution_count": 22,
      "metadata": {
        "colab": {
          "base_uri": "https://localhost:8080/"
        },
        "id": "hgtS1QznLfuM",
        "outputId": "9425cc53-2456-48ed-f832-7ce2cd497040"
      },
      "outputs": [
        {
          "name": "stdout",
          "output_type": "stream",
          "text": [
            " * Starting MySQL database server mysqld\n",
            "No directory, logging in with HOME=/\n",
            "   ...done.\n"
          ]
        }
      ],
      "source": [
        "!service mysql start"
      ]
    },
    {
      "cell_type": "code",
      "execution_count": 10,
      "metadata": {
        "colab": {
          "base_uri": "https://localhost:8080/"
        },
        "id": "sRVO007ujHxG",
        "outputId": "5639d1a8-b5e6-4657-f7b2-b9077795bc20"
      },
      "outputs": [
        {
          "name": "stdout",
          "output_type": "stream",
          "text": [
            " * /usr/bin/mysqladmin  Ver 8.42 Distrib 5.7.37, for Linux on x86_64\n",
            "Copyright (c) 2000, 2022, Oracle and/or its affiliates.\n",
            "\n",
            "Oracle is a registered trademark of Oracle Corporation and/or its\n",
            "affiliates. Other names may be trademarks of their respective\n",
            "owners.\n",
            "\n",
            "Server version\t\t5.7.37-0ubuntu0.18.04.1\n",
            "Protocol version\t10\n",
            "Connection\t\tLocalhost via UNIX socket\n",
            "UNIX socket\t\t/var/run/mysqld/mysqld.sock\n",
            "Uptime:\t\t\t1 sec\n",
            "\n",
            "Threads: 1  Questions: 8  Slow queries: 0  Opens: 105  Flush tables: 1  Open tables: 98  Queries per second avg: 8.000\n"
          ]
        }
      ],
      "source": [
        "!service mysql status"
      ]
    },
    {
      "cell_type": "markdown",
      "metadata": {
        "id": "e3U353jCG9z-"
      },
      "source": [
        "## DB作成"
      ]
    },
    {
      "cell_type": "code",
      "execution_count": 11,
      "metadata": {
        "id": "24FiGCQpbrZ7"
      },
      "outputs": [],
      "source": [
        "!echo \"create database db\" | mysql"
      ]
    },
    {
      "cell_type": "markdown",
      "metadata": {
        "id": "55AM6XT7HDr9"
      },
      "source": [
        "## Pythonクライアントのインストール"
      ]
    },
    {
      "cell_type": "code",
      "execution_count": 12,
      "metadata": {
        "colab": {
          "base_uri": "https://localhost:8080/"
        },
        "id": "wWBpoxVmjRTC",
        "outputId": "b10a7e8e-477e-4b07-c960-e65980827869"
      },
      "outputs": [
        {
          "name": "stdout",
          "output_type": "stream",
          "text": [
            "Collecting mysqlclient\n",
            "  Downloading mysqlclient-2.1.0.tar.gz (87 kB)\n",
            "\u001b[?25l\r\u001b[K     |███▊                            | 10 kB 19.1 MB/s eta 0:00:01\r\u001b[K     |███████▌                        | 20 kB 11.7 MB/s eta 0:00:01\r\u001b[K     |███████████▏                    | 30 kB 9.5 MB/s eta 0:00:01\r\u001b[K     |███████████████                 | 40 kB 8.6 MB/s eta 0:00:01\r\u001b[K     |██████████████████▊             | 51 kB 4.5 MB/s eta 0:00:01\r\u001b[K     |██████████████████████▍         | 61 kB 5.3 MB/s eta 0:00:01\r\u001b[K     |██████████████████████████▏     | 71 kB 5.2 MB/s eta 0:00:01\r\u001b[K     |██████████████████████████████  | 81 kB 5.8 MB/s eta 0:00:01\r\u001b[K     |████████████████████████████████| 87 kB 3.1 MB/s \n",
            "\u001b[?25hBuilding wheels for collected packages: mysqlclient\n",
            "  Building wheel for mysqlclient (setup.py) ... \u001b[?25l\u001b[?25hdone\n",
            "  Created wheel for mysqlclient: filename=mysqlclient-2.1.0-cp37-cp37m-linux_x86_64.whl size=99970 sha256=b02277159390cd4b15d6de2a531b35a56ec5150e53609641eddc9ffd4b8d7ce1\n",
            "  Stored in directory: /root/.cache/pip/wheels/97/d4/df/08cd6e1fa4a8691b268ab254bd0fa589827ab5b65638c010b4\n",
            "Successfully built mysqlclient\n",
            "Installing collected packages: mysqlclient\n",
            "Successfully installed mysqlclient-2.1.0\n"
          ]
        }
      ],
      "source": [
        "!pip install mysqlclient"
      ]
    },
    {
      "cell_type": "markdown",
      "metadata": {
        "id": "oZzcOXj4HIOj"
      },
      "source": [
        " ## データのインポート\n",
        "\n",
        "テーブルを作成して、データを50万件登録します。10分ほど時間がかかります。"
      ]
    },
    {
      "cell_type": "code",
      "execution_count": 13,
      "metadata": {
        "colab": {
          "base_uri": "https://localhost:8080/",
          "height": 49,
          "referenced_widgets": [
            "0d76e48caf8540b5abdc07a5ce53612c",
            "f32729b486cc496a8737504a5d512712",
            "4a07aea3c0ba440e8d39542bb4eb0af4",
            "2efe362557ab4d0b8fc7f0c4060e2c7a",
            "78754ffda85e428e96f77e7478a985d3",
            "855e14e6006c43d793a45a9424ea44af",
            "6ab7a79fa4544c2286a2f331409dc3d0",
            "55a6848d7c504f118b97fd9892a83a0c",
            "8a55a0ca3aa9424eb438179e166dfd40",
            "39aa7e3857d446569df6f8609c243ab5",
            "e2624988bde8494ab794478605f2c28f"
          ]
        },
        "id": "irdCqoI0cD95",
        "outputId": "a569258f-6178-410f-84d1-b65aac80d3fe"
      },
      "outputs": [
        {
          "data": {
            "application/vnd.jupyter.widget-view+json": {
              "model_id": "0d76e48caf8540b5abdc07a5ce53612c",
              "version_major": 2,
              "version_minor": 0
            },
            "text/plain": [
              "  0%|          | 0/750000.0 [00:00<?, ?it/s]"
            ]
          },
          "metadata": {},
          "output_type": "display_data"
        }
      ],
      "source": [
        "import MySQLdb\n",
        "import json\n",
        "import bz2\n",
        "from tqdm.notebook import tqdm\n",
        "\n",
        "db = MySQLdb.connect(host='localhost', user='root', db='db', charset='utf8mb4')\n",
        "cursor = db.cursor()\n",
        "\n",
        "cursor.execute('drop table if exists wiki_jp')\n",
        "cursor.execute('create table wiki_jp('\n",
        " 'id bigint unsigned not null auto_increment primary key,'\n",
        " 'title tinytext collate utf8mb4_unicode_ci storage memory,'\n",
        " 'body mediumtext collate utf8mb4_unicode_ci storage memory)')\n",
        "\n",
        "limit = 500000\n",
        "insert_wiki = 'insert into wiki_jp (title, body) values (%s, %s);'\n",
        "\n",
        "with bz2.open('/content/drive/MyDrive/wiki.json.bz2', 'rt', encoding='utf-8') as fin:\n",
        "    n = 0\n",
        "    for line in tqdm(fin, total=limit*1.5):\n",
        "        data = json.loads(line)\n",
        "        title = data['title'].strip()\n",
        "        body = data['text'].replace('\\n', '')\n",
        "        if len(title) > 0 and len(body) > 0:\n",
        "            cursor.execute(insert_wiki, (title, body))\n",
        "            n += 1\n",
        "        if n == limit:\n",
        "            break\n",
        "db.commit()\n",
        "db.close()"
      ]
    },
    {
      "cell_type": "markdown",
      "metadata": {
        "id": "jpyU-nGKJnFb"
      },
      "source": [
        "テーブル定義を確認します。"
      ]
    },
    {
      "cell_type": "code",
      "execution_count": 14,
      "metadata": {
        "colab": {
          "base_uri": "https://localhost:8080/"
        },
        "id": "T93RUi2_g1OP",
        "outputId": "d60b263c-8722-4df4-923f-67af5f1b455d"
      },
      "outputs": [
        {
          "name": "stdout",
          "output_type": "stream",
          "text": [
            "Field\tType\tNull\tKey\tDefault\tExtra\n",
            "id\tbigint(20) unsigned\tNO\tPRI\tNULL\tauto_increment\n",
            "title\ttinytext\tYES\t\tNULL\t\n",
            "body\tmediumtext\tYES\t\tNULL\t\n"
          ]
        }
      ],
      "source": [
        "!echo \"show columns from db.wiki_jp\" | mysql"
      ]
    },
    {
      "cell_type": "markdown",
      "metadata": {
        "id": "Ycuf9PjwJskZ"
      },
      "source": [
        "登録件数を確認します。"
      ]
    },
    {
      "cell_type": "code",
      "execution_count": 15,
      "metadata": {
        "colab": {
          "base_uri": "https://localhost:8080/"
        },
        "id": "2czdK07q1tex",
        "outputId": "1f64152b-9399-47dd-f64c-5434128c962c"
      },
      "outputs": [
        {
          "name": "stdout",
          "output_type": "stream",
          "text": [
            "count(*)\n",
            "500000\n"
          ]
        }
      ],
      "source": [
        "!echo \"select count(*) from db.wiki_jp\" | mysql"
      ]
    },
    {
      "cell_type": "markdown",
      "metadata": {
        "id": "A_BknkylHgCU"
      },
      "source": [
        "## インデックスを使わない検索\n",
        "\n",
        "like検索でシーケンシャルに検索した場合を測定します。mysqlコマンドに-vvvオプションを付けると、出力の最後から3行目にマッチ数と処理時間が出力されるので、その部分だけをtailコマンドとheadコマンドで切り出しています。"
      ]
    },
    {
      "cell_type": "code",
      "execution_count": 24,
      "metadata": {
        "colab": {
          "base_uri": "https://localhost:8080/"
        },
        "id": "ivJB8-7t-HO7",
        "outputId": "2514cabc-13f4-42e6-9a23-2a40ad1bd15b"
      },
      "outputs": [
        {
          "name": "stdout",
          "output_type": "stream",
          "text": [
            "id\tselect_type\ttable\tpartitions\ttype\tpossible_keys\tkey\tkey_len\tref\trows\tfiltered\tExtra\n",
            "1\tSIMPLE\twiki_jp\tNULL\tALL\tNULL\tNULL\tNULL\tNULL\t271545\t11.11\tUsing where\n"
          ]
        }
      ],
      "source": [
        "!echo \"explain select sql_no_cache * from db.wiki_jp where body like '%日本語%'\" | mysql"
      ]
    },
    {
      "cell_type": "code",
      "execution_count": 16,
      "metadata": {
        "colab": {
          "base_uri": "https://localhost:8080/"
        },
        "id": "MNrr-2hQvYf-",
        "outputId": "7b2ad3ce-e4cf-4348-f20d-bc5f8a344f32"
      },
      "outputs": [
        {
          "name": "stdout",
          "output_type": "stream",
          "text": [
            "17006 rows in set, 1 warning (10.51 sec)\n",
            "CPU times: user 126 ms, sys: 19.5 ms, total: 146 ms\n",
            "Wall time: 13.6 s\n"
          ]
        }
      ],
      "source": [
        "%%time\n",
        "!echo \"select sql_no_cache * from db.wiki_jp where body like '%日本語%'\" | mysql -vvv | tail -3 | head -1"
      ]
    },
    {
      "cell_type": "code",
      "execution_count": 17,
      "metadata": {
        "colab": {
          "base_uri": "https://localhost:8080/"
        },
        "id": "R7pt-9KgZO5X",
        "outputId": "fb5ff2a2-8177-427a-85b5-76b2f2cb8cd4"
      },
      "outputs": [
        {
          "name": "stdout",
          "output_type": "stream",
          "text": [
            "17006 rows in set, 1 warning (10.25 sec)\n",
            "CPU times: user 121 ms, sys: 16.8 ms, total: 138 ms\n",
            "Wall time: 13.8 s\n"
          ]
        }
      ],
      "source": [
        "%%time\n",
        "!echo \"select sql_no_cache * from db.wiki_jp where body like '%日本語%'\" | mysql -vvv | tail -3 | head -1"
      ]
    },
    {
      "cell_type": "markdown",
      "metadata": {
        "id": "BJbvluZHHl5R"
      },
      "source": [
        "## 全文検索用インデックスの作成"
      ]
    },
    {
      "cell_type": "markdown",
      "metadata": {
        "id": "K0pm-oefLPES"
      },
      "source": [
        "インデックスの作成には60分ほどかかります。"
      ]
    },
    {
      "cell_type": "code",
      "execution_count": 18,
      "metadata": {
        "colab": {
          "base_uri": "https://localhost:8080/"
        },
        "id": "peb32ohOCHoE",
        "outputId": "8b208001-50a3-4aa2-92d9-8233f5981774"
      },
      "outputs": [
        {
          "name": "stdout",
          "output_type": "stream",
          "text": [
            "--------------\n",
            "alter table db.wiki_jp add fulltext index ngram_idx (body) with parser ngram\n",
            "--------------\n",
            "\n",
            "Query OK, 0 rows affected, 1 warning (1 hour 33.16 sec)\n",
            "Records: 0  Duplicates: 0  Warnings: 1\n",
            "\n",
            "Bye\n"
          ]
        }
      ],
      "source": [
        "!echo \"alter table db.wiki_jp add fulltext index ngram_idx (body) with parser ngram\" | mysql -vvv"
      ]
    },
    {
      "cell_type": "markdown",
      "metadata": {
        "id": "pTaLmCjpHtcB"
      },
      "source": [
        "## インデックスを使った検索"
      ]
    },
    {
      "cell_type": "code",
      "execution_count": 25,
      "metadata": {
        "colab": {
          "base_uri": "https://localhost:8080/"
        },
        "id": "hW9v-JHF9-B-",
        "outputId": "56ee8f71-ef42-4570-83d4-b88e09a09920"
      },
      "outputs": [
        {
          "name": "stdout",
          "output_type": "stream",
          "text": [
            "id\tselect_type\ttable\tpartitions\ttype\tpossible_keys\tkey\tkey_len\tref\trows\tfiltered\tExtra\n",
            "1\tSIMPLE\twiki_jp\tNULL\tfulltext\tngram_idx\tngram_idx\t0\tconst\t1\t100.00\tUsing where; Ft_hints: no_ranking\n"
          ]
        }
      ],
      "source": [
        "!echo \"explain select sql_no_cache * from db.wiki_jp where match (body) against ('日本語' in boolean mode)\" | mysql"
      ]
    },
    {
      "cell_type": "code",
      "execution_count": 19,
      "metadata": {
        "colab": {
          "base_uri": "https://localhost:8080/"
        },
        "id": "_zBzLNgo56lO",
        "outputId": "797c43d3-aeea-45f3-9253-cf435bb1417f"
      },
      "outputs": [
        {
          "name": "stdout",
          "output_type": "stream",
          "text": [
            "17006 rows in set, 1 warning (15.46 sec)\n",
            "CPU times: user 152 ms, sys: 28.2 ms, total: 180 ms\n",
            "Wall time: 19.2 s\n"
          ]
        }
      ],
      "source": [
        "%%time\n",
        "!echo \"select sql_no_cache * from db.wiki_jp where match (body) against ('日本語' in boolean mode)\" | mysql -vvv | tail -3 | head -1"
      ]
    },
    {
      "cell_type": "code",
      "execution_count": 20,
      "metadata": {
        "colab": {
          "base_uri": "https://localhost:8080/"
        },
        "id": "4G5ak4SPZEkj",
        "outputId": "39bd7c90-7137-43b6-bfac-d0515300981a"
      },
      "outputs": [
        {
          "name": "stdout",
          "output_type": "stream",
          "text": [
            "17006 rows in set, 1 warning (4.43 sec)\n",
            "CPU times: user 74.5 ms, sys: 17.4 ms, total: 91.9 ms\n",
            "Wall time: 8.35 s\n"
          ]
        }
      ],
      "source": [
        "%%time\n",
        "!echo \"select sql_no_cache * from db.wiki_jp where match (body) against ('日本語' in boolean mode)\" | mysql -vvv | tail -3 | head -1"
      ]
    },
    {
      "cell_type": "markdown",
      "metadata": {
        "id": "WqQeRdSUbtAL"
      },
      "source": [
        "1回目が2回目よりも倍かかっているので、インデックスの作成時にデータがメモリから追い出されていると思われます。メモリに載っていない状態で、メモリに載ったインデックスなしの検索と同程度の処理時間です。メモリに載っている2回目では、半分の処理時間なので、インデックスの効果が確認できます。"
      ]
    },
    {
      "cell_type": "markdown",
      "metadata": {
        "id": "Wy0d7eiKH4H5"
      },
      "source": [
        "## DBの停止"
      ]
    },
    {
      "cell_type": "code",
      "execution_count": 21,
      "metadata": {
        "colab": {
          "base_uri": "https://localhost:8080/"
        },
        "id": "g2ovVFGW29Mt",
        "outputId": "090eb354-f86e-43af-c3b9-f37ccb67d7a2"
      },
      "outputs": [
        {
          "name": "stdout",
          "output_type": "stream",
          "text": [
            " * Stopping MySQL database server mysqld\n",
            "   ...done.\n"
          ]
        }
      ],
      "source": [
        "!service mysql stop"
      ]
    }
  ],
  "metadata": {
    "colab": {
      "collapsed_sections": [
        "GQ53mxqQFWNP",
        "e3U353jCG9z-",
        "55AM6XT7HDr9"
      ],
      "name": "全文検索_MySQL.ipynb",
      "provenance": []
    },
    "kernelspec": {
      "display_name": "Python 3",
      "name": "python3"
    },
    "language_info": {
      "name": "python"
    },
    "widgets": {
      "application/vnd.jupyter.widget-state+json": {
        "0d76e48caf8540b5abdc07a5ce53612c": {
          "model_module": "@jupyter-widgets/controls",
          "model_module_version": "1.5.0",
          "model_name": "HBoxModel",
          "state": {
            "_dom_classes": [],
            "_model_module": "@jupyter-widgets/controls",
            "_model_module_version": "1.5.0",
            "_model_name": "HBoxModel",
            "_view_count": null,
            "_view_module": "@jupyter-widgets/controls",
            "_view_module_version": "1.5.0",
            "_view_name": "HBoxView",
            "box_style": "",
            "children": [
              "IPY_MODEL_4a07aea3c0ba440e8d39542bb4eb0af4",
              "IPY_MODEL_2efe362557ab4d0b8fc7f0c4060e2c7a",
              "IPY_MODEL_78754ffda85e428e96f77e7478a985d3"
            ],
            "layout": "IPY_MODEL_f32729b486cc496a8737504a5d512712"
          }
        },
        "2efe362557ab4d0b8fc7f0c4060e2c7a": {
          "model_module": "@jupyter-widgets/controls",
          "model_module_version": "1.5.0",
          "model_name": "FloatProgressModel",
          "state": {
            "_dom_classes": [],
            "_model_module": "@jupyter-widgets/controls",
            "_model_module_version": "1.5.0",
            "_model_name": "FloatProgressModel",
            "_view_count": null,
            "_view_module": "@jupyter-widgets/controls",
            "_view_module_version": "1.5.0",
            "_view_name": "ProgressView",
            "bar_style": "danger",
            "description": "",
            "description_tooltip": null,
            "layout": "IPY_MODEL_8a55a0ca3aa9424eb438179e166dfd40",
            "max": 750000,
            "min": 0,
            "orientation": "horizontal",
            "style": "IPY_MODEL_55a6848d7c504f118b97fd9892a83a0c",
            "value": 750000
          }
        },
        "39aa7e3857d446569df6f8609c243ab5": {
          "model_module": "@jupyter-widgets/controls",
          "model_module_version": "1.5.0",
          "model_name": "DescriptionStyleModel",
          "state": {
            "_model_module": "@jupyter-widgets/controls",
            "_model_module_version": "1.5.0",
            "_model_name": "DescriptionStyleModel",
            "_view_count": null,
            "_view_module": "@jupyter-widgets/base",
            "_view_module_version": "1.2.0",
            "_view_name": "StyleView",
            "description_width": ""
          }
        },
        "4a07aea3c0ba440e8d39542bb4eb0af4": {
          "model_module": "@jupyter-widgets/controls",
          "model_module_version": "1.5.0",
          "model_name": "HTMLModel",
          "state": {
            "_dom_classes": [],
            "_model_module": "@jupyter-widgets/controls",
            "_model_module_version": "1.5.0",
            "_model_name": "HTMLModel",
            "_view_count": null,
            "_view_module": "@jupyter-widgets/controls",
            "_view_module_version": "1.5.0",
            "_view_name": "HTMLView",
            "description": "",
            "description_tooltip": null,
            "layout": "IPY_MODEL_6ab7a79fa4544c2286a2f331409dc3d0",
            "placeholder": "​",
            "style": "IPY_MODEL_855e14e6006c43d793a45a9424ea44af",
            "value": ""
          }
        },
        "55a6848d7c504f118b97fd9892a83a0c": {
          "model_module": "@jupyter-widgets/controls",
          "model_module_version": "1.5.0",
          "model_name": "ProgressStyleModel",
          "state": {
            "_model_module": "@jupyter-widgets/controls",
            "_model_module_version": "1.5.0",
            "_model_name": "ProgressStyleModel",
            "_view_count": null,
            "_view_module": "@jupyter-widgets/base",
            "_view_module_version": "1.2.0",
            "_view_name": "StyleView",
            "bar_color": null,
            "description_width": ""
          }
        },
        "6ab7a79fa4544c2286a2f331409dc3d0": {
          "model_module": "@jupyter-widgets/base",
          "model_module_version": "1.2.0",
          "model_name": "LayoutModel",
          "state": {
            "_model_module": "@jupyter-widgets/base",
            "_model_module_version": "1.2.0",
            "_model_name": "LayoutModel",
            "_view_count": null,
            "_view_module": "@jupyter-widgets/base",
            "_view_module_version": "1.2.0",
            "_view_name": "LayoutView",
            "align_content": null,
            "align_items": null,
            "align_self": null,
            "border": null,
            "bottom": null,
            "display": null,
            "flex": null,
            "flex_flow": null,
            "grid_area": null,
            "grid_auto_columns": null,
            "grid_auto_flow": null,
            "grid_auto_rows": null,
            "grid_column": null,
            "grid_gap": null,
            "grid_row": null,
            "grid_template_areas": null,
            "grid_template_columns": null,
            "grid_template_rows": null,
            "height": null,
            "justify_content": null,
            "justify_items": null,
            "left": null,
            "margin": null,
            "max_height": null,
            "max_width": null,
            "min_height": null,
            "min_width": null,
            "object_fit": null,
            "object_position": null,
            "order": null,
            "overflow": null,
            "overflow_x": null,
            "overflow_y": null,
            "padding": null,
            "right": null,
            "top": null,
            "visibility": null,
            "width": null
          }
        },
        "78754ffda85e428e96f77e7478a985d3": {
          "model_module": "@jupyter-widgets/controls",
          "model_module_version": "1.5.0",
          "model_name": "HTMLModel",
          "state": {
            "_dom_classes": [],
            "_model_module": "@jupyter-widgets/controls",
            "_model_module_version": "1.5.0",
            "_model_name": "HTMLModel",
            "_view_count": null,
            "_view_module": "@jupyter-widgets/controls",
            "_view_module_version": "1.5.0",
            "_view_name": "HTMLView",
            "description": "",
            "description_tooltip": null,
            "layout": "IPY_MODEL_e2624988bde8494ab794478605f2c28f",
            "placeholder": "​",
            "style": "IPY_MODEL_39aa7e3857d446569df6f8609c243ab5",
            "value": " 779788/? [10:50&lt;00:00, 1744.09it/s]"
          }
        },
        "855e14e6006c43d793a45a9424ea44af": {
          "model_module": "@jupyter-widgets/controls",
          "model_module_version": "1.5.0",
          "model_name": "DescriptionStyleModel",
          "state": {
            "_model_module": "@jupyter-widgets/controls",
            "_model_module_version": "1.5.0",
            "_model_name": "DescriptionStyleModel",
            "_view_count": null,
            "_view_module": "@jupyter-widgets/base",
            "_view_module_version": "1.2.0",
            "_view_name": "StyleView",
            "description_width": ""
          }
        },
        "8a55a0ca3aa9424eb438179e166dfd40": {
          "model_module": "@jupyter-widgets/base",
          "model_module_version": "1.2.0",
          "model_name": "LayoutModel",
          "state": {
            "_model_module": "@jupyter-widgets/base",
            "_model_module_version": "1.2.0",
            "_model_name": "LayoutModel",
            "_view_count": null,
            "_view_module": "@jupyter-widgets/base",
            "_view_module_version": "1.2.0",
            "_view_name": "LayoutView",
            "align_content": null,
            "align_items": null,
            "align_self": null,
            "border": null,
            "bottom": null,
            "display": null,
            "flex": null,
            "flex_flow": null,
            "grid_area": null,
            "grid_auto_columns": null,
            "grid_auto_flow": null,
            "grid_auto_rows": null,
            "grid_column": null,
            "grid_gap": null,
            "grid_row": null,
            "grid_template_areas": null,
            "grid_template_columns": null,
            "grid_template_rows": null,
            "height": null,
            "justify_content": null,
            "justify_items": null,
            "left": null,
            "margin": null,
            "max_height": null,
            "max_width": null,
            "min_height": null,
            "min_width": null,
            "object_fit": null,
            "object_position": null,
            "order": null,
            "overflow": null,
            "overflow_x": null,
            "overflow_y": null,
            "padding": null,
            "right": null,
            "top": null,
            "visibility": null,
            "width": null
          }
        },
        "e2624988bde8494ab794478605f2c28f": {
          "model_module": "@jupyter-widgets/base",
          "model_module_version": "1.2.0",
          "model_name": "LayoutModel",
          "state": {
            "_model_module": "@jupyter-widgets/base",
            "_model_module_version": "1.2.0",
            "_model_name": "LayoutModel",
            "_view_count": null,
            "_view_module": "@jupyter-widgets/base",
            "_view_module_version": "1.2.0",
            "_view_name": "LayoutView",
            "align_content": null,
            "align_items": null,
            "align_self": null,
            "border": null,
            "bottom": null,
            "display": null,
            "flex": null,
            "flex_flow": null,
            "grid_area": null,
            "grid_auto_columns": null,
            "grid_auto_flow": null,
            "grid_auto_rows": null,
            "grid_column": null,
            "grid_gap": null,
            "grid_row": null,
            "grid_template_areas": null,
            "grid_template_columns": null,
            "grid_template_rows": null,
            "height": null,
            "justify_content": null,
            "justify_items": null,
            "left": null,
            "margin": null,
            "max_height": null,
            "max_width": null,
            "min_height": null,
            "min_width": null,
            "object_fit": null,
            "object_position": null,
            "order": null,
            "overflow": null,
            "overflow_x": null,
            "overflow_y": null,
            "padding": null,
            "right": null,
            "top": null,
            "visibility": null,
            "width": null
          }
        },
        "f32729b486cc496a8737504a5d512712": {
          "model_module": "@jupyter-widgets/base",
          "model_module_version": "1.2.0",
          "model_name": "LayoutModel",
          "state": {
            "_model_module": "@jupyter-widgets/base",
            "_model_module_version": "1.2.0",
            "_model_name": "LayoutModel",
            "_view_count": null,
            "_view_module": "@jupyter-widgets/base",
            "_view_module_version": "1.2.0",
            "_view_name": "LayoutView",
            "align_content": null,
            "align_items": null,
            "align_self": null,
            "border": null,
            "bottom": null,
            "display": null,
            "flex": null,
            "flex_flow": null,
            "grid_area": null,
            "grid_auto_columns": null,
            "grid_auto_flow": null,
            "grid_auto_rows": null,
            "grid_column": null,
            "grid_gap": null,
            "grid_row": null,
            "grid_template_areas": null,
            "grid_template_columns": null,
            "grid_template_rows": null,
            "height": null,
            "justify_content": null,
            "justify_items": null,
            "left": null,
            "margin": null,
            "max_height": null,
            "max_width": null,
            "min_height": null,
            "min_width": null,
            "object_fit": null,
            "object_position": null,
            "order": null,
            "overflow": null,
            "overflow_x": null,
            "overflow_y": null,
            "padding": null,
            "right": null,
            "top": null,
            "visibility": null,
            "width": null
          }
        }
      }
    }
  },
  "nbformat": 4,
  "nbformat_minor": 0
}
