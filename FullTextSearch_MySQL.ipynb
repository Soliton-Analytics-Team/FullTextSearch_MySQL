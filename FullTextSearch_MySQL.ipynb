{
  "cells": [
    {
      "cell_type": "markdown",
      "metadata": {
        "id": "1K0_sJIHCjL6"
      },
      "source": [
        "# Colabで全文検索（その１：MySQL編）"
      ]
    },
    {
      "cell_type": "markdown",
      "metadata": {
        "id": "rweC4VgbC9AR"
      },
      "source": [
        "各種全文検索ツールをColabで動かしてみるシリーズです。全7回の予定です。今回はMySQLです。\n",
        "\n",
        "処理時間の計測はストレージのキャッシュとの兼ね合いがあるので、2回測ります。2回目は全てがメモリに載った状態での性能評価になります。ただ1回目もデータを投入した直後なので、メモリに載ってしまっている可能性があります。"
      ]
    },
    {
      "cell_type": "markdown",
      "metadata": {
        "id": "ontwwvVwWwmt"
      },
      "source": [
        "## 準備\n",
        "\n",
        "まずは検索対象のテキストを日本語wikiから取得して、Google Driveに保存します。（※ Google Driveに約１GBの空き容量が必要です。以前のデータが残っている場合は取得せず再利用します。）"
      ]
    },
    {
      "cell_type": "markdown",
      "metadata": {
        "id": "LCfigMZ6ECxz"
      },
      "source": [
        "Google Driveのマウント"
      ]
    },
    {
      "cell_type": "code",
      "execution_count": 1,
      "metadata": {
        "colab": {
          "base_uri": "https://localhost:8080/"
        },
        "id": "7BTJxe9silgT",
        "outputId": "a0331679-333d-4933-86a0-8a541a92689e"
      },
      "outputs": [
        {
          "name": "stdout",
          "output_type": "stream",
          "text": [
            "Mounted at /content/drive\n"
          ]
        }
      ],
      "source": [
        "from google.colab import drive\n",
        "drive.mount('/content/drive')"
      ]
    },
    {
      "cell_type": "markdown",
      "metadata": {
        "id": "gppvHDHcENfo"
      },
      "source": [
        "jawikiの取得とjson形式への変換。90分ほど時間がかかります。他の全文検索シリーズでも同じデータを使うので、他の記事も試す場合は wiki.json.bz2 を捨てずに残しておくことをおすすめします。"
      ]
    },
    {
      "cell_type": "code",
      "execution_count": 2,
      "metadata": {
        "colab": {
          "base_uri": "https://localhost:8080/"
        },
        "id": "2QyLMBV2cK_e",
        "outputId": "4b1d464b-7bb0-4ce9-c73d-95f3f71c7b4b"
      },
      "outputs": [
        {
          "name": "stdout",
          "output_type": "stream",
          "text": [
            "/content\n",
            "CPU times: user 2.87 ms, sys: 0 ns, total: 2.87 ms\n",
            "Wall time: 7.51 ms\n"
          ]
        }
      ],
      "source": [
        "%%time\n",
        "%cd /content/\n",
        "import os\n",
        "if not os.path.exists('/content/drive/MyDrive/wiki.json.bz2'):\n",
        "    !wget https://dumps.wikimedia.org/jawiki/latest/jawiki-latest-pages-articles.xml.bz2\n",
        "    !pip install wikiextractor\n",
        "    !python -m wikiextractor.WikiExtractor --no-templates --processes 4 --json -b 10G -o - jawiki-latest-pages-articles.xml.bz2 | bzip2 -c > /content/drive/MyDrive/wiki.json.bz2"
      ]
    },
    {
      "cell_type": "markdown",
      "metadata": {
        "id": "eHlb058dEq-V"
      },
      "source": [
        "json形式に変換されたデータを確認"
      ]
    },
    {
      "cell_type": "code",
      "execution_count": 3,
      "metadata": {
        "colab": {
          "base_uri": "https://localhost:8080/"
        },
        "id": "B9xEcGcQrimv",
        "outputId": "a5590292-1342-48ac-8186-9be8720e86f4"
      },
      "outputs": [
        {
          "name": "stdout",
          "output_type": "stream",
          "text": [
            "アンパサンド\tアンパサンド（&amp;, ）は、並立助詞「…と…」を意味する記号である。ラテン\n",
            "言語\t言語（げんご）は、広辞苑や大辞泉には次のように解説されている。『日本大百科事典』\n",
            "日本語\t 日本語（にほんご、にっぽんご）は、日本国内や、かつての日本領だった国、そして日\n",
            "地理学\t地理学（ちりがく、、、伊：geografia、）は、。地域や空間、場所、自然環境\n",
            "EU (曖昧さ回避)\tEU\n",
            "国の一覧\t国の一覧（くにのいちらん）は、世界の独立国の一覧。対象.国際法上国家と言えるか否\n"
          ]
        }
      ],
      "source": [
        "import json\n",
        "import bz2\n",
        "\n",
        "with bz2.open('/content/drive/MyDrive/wiki.json.bz2', 'rt', encoding='utf-8') as fin:\n",
        "    for n, line in enumerate(fin):\n",
        "        data = json.loads(line)\n",
        "        print(data['title'].strip(), data['text'].replace('\\n', '')[:40], sep='\\t')\n",
        "        if n == 5:\n",
        "            break"
      ]
    },
    {
      "cell_type": "markdown",
      "metadata": {
        "id": "GQ53mxqQFWNP"
      },
      "source": [
        "## MySQLのインストール"
      ]
    },
    {
      "cell_type": "code",
      "execution_count": 4,
      "metadata": {
        "colab": {
          "base_uri": "https://localhost:8080/"
        },
        "id": "28b04YaMhbY2",
        "outputId": "91117b78-b82a-4552-fa0f-7c3c8621882c"
      },
      "outputs": [
        {
          "name": "stdout",
          "output_type": "stream",
          "text": [
            "Get:1 https://cloud.r-project.org/bin/linux/ubuntu bionic-cran40/ InRelease [3,626 B]\n",
            "Ign:2 https://developer.download.nvidia.com/compute/cuda/repos/ubuntu1804/x86_64  InRelease\n",
            "Get:3 http://security.ubuntu.com/ubuntu bionic-security InRelease [88.7 kB]\n",
            "Ign:4 https://developer.download.nvidia.com/compute/machine-learning/repos/ubuntu1804/x86_64  InRelease\n",
            "Hit:5 https://developer.download.nvidia.com/compute/cuda/repos/ubuntu1804/x86_64  Release\n",
            "Hit:6 http://archive.ubuntu.com/ubuntu bionic InRelease\n",
            "Hit:7 http://ppa.launchpad.net/c2d4u.team/c2d4u4.0+/ubuntu bionic InRelease\n",
            "Hit:8 https://developer.download.nvidia.com/compute/machine-learning/repos/ubuntu1804/x86_64  Release\n",
            "Get:10 http://archive.ubuntu.com/ubuntu bionic-updates InRelease [88.7 kB]\n",
            "Hit:12 http://ppa.launchpad.net/cran/libgit2/ubuntu bionic InRelease\n",
            "Get:13 http://security.ubuntu.com/ubuntu bionic-security/restricted amd64 Packages [829 kB]\n",
            "Get:14 http://ppa.launchpad.net/deadsnakes/ppa/ubuntu bionic InRelease [15.9 kB]\n",
            "Get:15 http://archive.ubuntu.com/ubuntu bionic-backports InRelease [74.6 kB]\n",
            "Get:16 http://archive.ubuntu.com/ubuntu bionic-updates/main amd64 Packages [3,067 kB]\n",
            "Get:17 http://security.ubuntu.com/ubuntu bionic-security/main amd64 Packages [2,628 kB]\n",
            "Hit:18 http://ppa.launchpad.net/graphics-drivers/ppa/ubuntu bionic InRelease\n",
            "Get:19 http://security.ubuntu.com/ubuntu bionic-security/universe amd64 Packages [1,478 kB]\n",
            "Get:20 http://ppa.launchpad.net/deadsnakes/ppa/ubuntu bionic/main amd64 Packages [45.3 kB]\n",
            "Get:21 http://archive.ubuntu.com/ubuntu bionic-updates/universe amd64 Packages [2,256 kB]\n",
            "Get:22 http://archive.ubuntu.com/ubuntu bionic-updates/restricted amd64 Packages [863 kB]\n",
            "Fetched 11.4 MB in 4s (3,139 kB/s)\n",
            "Reading package lists... Done\n",
            "Building dependency tree       \n",
            "Reading state information... Done\n",
            "40 packages can be upgraded. Run 'apt list --upgradable' to see them.\n",
            "Reading package lists... Done\n",
            "Building dependency tree       \n",
            "Reading state information... Done\n",
            "The following additional packages will be installed:\n",
            "  libcgi-fast-perl libcgi-pm-perl libencode-locale-perl libevent-core-2.1-6\n",
            "  libfcgi-perl libhtml-parser-perl libhtml-tagset-perl libhtml-template-perl\n",
            "  libhttp-date-perl libhttp-message-perl libio-html-perl\n",
            "  liblwp-mediatypes-perl libtimedate-perl liburi-perl mysql-client-5.7\n",
            "  mysql-client-core-5.7 mysql-server-5.7 mysql-server-core-5.7\n",
            "Suggested packages:\n",
            "  libdata-dump-perl libipc-sharedcache-perl libwww-perl mailx tinyca\n",
            "The following NEW packages will be installed:\n",
            "  libcgi-fast-perl libcgi-pm-perl libencode-locale-perl libevent-core-2.1-6\n",
            "  libfcgi-perl libhtml-parser-perl libhtml-tagset-perl libhtml-template-perl\n",
            "  libhttp-date-perl libhttp-message-perl libio-html-perl\n",
            "  liblwp-mediatypes-perl libtimedate-perl liburi-perl mysql-client\n",
            "  mysql-client-5.7 mysql-client-core-5.7 mysql-server mysql-server-5.7\n",
            "  mysql-server-core-5.7\n",
            "0 upgraded, 20 newly installed, 0 to remove and 40 not upgraded.\n",
            "Need to get 19.6 MB of archives.\n",
            "After this operation, 156 MB of additional disk space will be used.\n",
            "Get:1 http://archive.ubuntu.com/ubuntu bionic-updates/main amd64 mysql-client-core-5.7 amd64 5.7.37-0ubuntu0.18.04.1 [6,635 kB]\n",
            "Get:2 http://archive.ubuntu.com/ubuntu bionic-updates/main amd64 mysql-client-5.7 amd64 5.7.37-0ubuntu0.18.04.1 [1,943 kB]\n",
            "Get:3 http://archive.ubuntu.com/ubuntu bionic-updates/main amd64 mysql-server-core-5.7 amd64 5.7.37-0ubuntu0.18.04.1 [7,425 kB]\n",
            "Get:4 http://archive.ubuntu.com/ubuntu bionic/main amd64 libevent-core-2.1-6 amd64 2.1.8-stable-4build1 [85.9 kB]\n",
            "Get:5 http://archive.ubuntu.com/ubuntu bionic-updates/main amd64 mysql-server-5.7 amd64 5.7.37-0ubuntu0.18.04.1 [2,903 kB]\n",
            "Get:6 http://archive.ubuntu.com/ubuntu bionic/main amd64 libhtml-tagset-perl all 3.20-3 [12.1 kB]\n",
            "Get:7 http://archive.ubuntu.com/ubuntu bionic/main amd64 liburi-perl all 1.73-1 [77.2 kB]\n",
            "Get:8 http://archive.ubuntu.com/ubuntu bionic/main amd64 libhtml-parser-perl amd64 3.72-3build1 [85.9 kB]\n",
            "Get:9 http://archive.ubuntu.com/ubuntu bionic/main amd64 libcgi-pm-perl all 4.38-1 [185 kB]\n",
            "Get:10 http://archive.ubuntu.com/ubuntu bionic/main amd64 libfcgi-perl amd64 0.78-2build1 [32.8 kB]\n",
            "Get:11 http://archive.ubuntu.com/ubuntu bionic/main amd64 libcgi-fast-perl all 1:2.13-1 [9,940 B]\n",
            "Get:12 http://archive.ubuntu.com/ubuntu bionic/main amd64 libencode-locale-perl all 1.05-1 [12.3 kB]\n",
            "Get:13 http://archive.ubuntu.com/ubuntu bionic/main amd64 libhtml-template-perl all 2.97-1 [59.0 kB]\n",
            "Get:14 http://archive.ubuntu.com/ubuntu bionic/main amd64 libtimedate-perl all 2.3000-2 [37.5 kB]\n",
            "Get:15 http://archive.ubuntu.com/ubuntu bionic/main amd64 libhttp-date-perl all 6.02-1 [10.4 kB]\n",
            "Get:16 http://archive.ubuntu.com/ubuntu bionic/main amd64 libio-html-perl all 1.001-1 [14.9 kB]\n",
            "Get:17 http://archive.ubuntu.com/ubuntu bionic/main amd64 liblwp-mediatypes-perl all 6.02-1 [21.7 kB]\n",
            "Get:18 http://archive.ubuntu.com/ubuntu bionic/main amd64 libhttp-message-perl all 6.14-1 [72.1 kB]\n",
            "Get:19 http://archive.ubuntu.com/ubuntu bionic-updates/main amd64 mysql-client all 5.7.37-0ubuntu0.18.04.1 [9,820 B]\n",
            "Get:20 http://archive.ubuntu.com/ubuntu bionic-updates/main amd64 mysql-server all 5.7.37-0ubuntu0.18.04.1 [9,944 B]\n",
            "Fetched 19.6 MB in 4s (4,759 kB/s)\n",
            "debconf: unable to initialize frontend: Dialog\n",
            "debconf: (No usable dialog-like program is installed, so the dialog based frontend cannot be used. at /usr/share/perl5/Debconf/FrontEnd/Dialog.pm line 76, <> line 20.)\n",
            "debconf: falling back to frontend: Readline\n",
            "debconf: unable to initialize frontend: Readline\n",
            "debconf: (This frontend requires a controlling tty.)\n",
            "debconf: falling back to frontend: Teletype\n",
            "dpkg-preconfigure: unable to re-open stdin: \n",
            "Selecting previously unselected package mysql-client-core-5.7.\n",
            "(Reading database ... 155332 files and directories currently installed.)\n",
            "Preparing to unpack .../00-mysql-client-core-5.7_5.7.37-0ubuntu0.18.04.1_amd64.deb ...\n",
            "Unpacking mysql-client-core-5.7 (5.7.37-0ubuntu0.18.04.1) ...\n",
            "Selecting previously unselected package mysql-client-5.7.\n",
            "Preparing to unpack .../01-mysql-client-5.7_5.7.37-0ubuntu0.18.04.1_amd64.deb ...\n",
            "Unpacking mysql-client-5.7 (5.7.37-0ubuntu0.18.04.1) ...\n",
            "Selecting previously unselected package mysql-server-core-5.7.\n",
            "Preparing to unpack .../02-mysql-server-core-5.7_5.7.37-0ubuntu0.18.04.1_amd64.deb ...\n",
            "Unpacking mysql-server-core-5.7 (5.7.37-0ubuntu0.18.04.1) ...\n",
            "Selecting previously unselected package libevent-core-2.1-6:amd64.\n",
            "Preparing to unpack .../03-libevent-core-2.1-6_2.1.8-stable-4build1_amd64.deb ...\n",
            "Unpacking libevent-core-2.1-6:amd64 (2.1.8-stable-4build1) ...\n",
            "Selecting previously unselected package mysql-server-5.7.\n",
            "Preparing to unpack .../04-mysql-server-5.7_5.7.37-0ubuntu0.18.04.1_amd64.deb ...\n",
            "debconf: unable to initialize frontend: Dialog\n",
            "debconf: (No usable dialog-like program is installed, so the dialog based frontend cannot be used. at /usr/share/perl5/Debconf/FrontEnd/Dialog.pm line 76.)\n",
            "debconf: falling back to frontend: Readline\n",
            "Unpacking mysql-server-5.7 (5.7.37-0ubuntu0.18.04.1) ...\n",
            "Selecting previously unselected package libhtml-tagset-perl.\n",
            "Preparing to unpack .../05-libhtml-tagset-perl_3.20-3_all.deb ...\n",
            "Unpacking libhtml-tagset-perl (3.20-3) ...\n",
            "Selecting previously unselected package liburi-perl.\n",
            "Preparing to unpack .../06-liburi-perl_1.73-1_all.deb ...\n",
            "Unpacking liburi-perl (1.73-1) ...\n",
            "Selecting previously unselected package libhtml-parser-perl.\n",
            "Preparing to unpack .../07-libhtml-parser-perl_3.72-3build1_amd64.deb ...\n",
            "Unpacking libhtml-parser-perl (3.72-3build1) ...\n",
            "Selecting previously unselected package libcgi-pm-perl.\n",
            "Preparing to unpack .../08-libcgi-pm-perl_4.38-1_all.deb ...\n",
            "Unpacking libcgi-pm-perl (4.38-1) ...\n",
            "Selecting previously unselected package libfcgi-perl.\n",
            "Preparing to unpack .../09-libfcgi-perl_0.78-2build1_amd64.deb ...\n",
            "Unpacking libfcgi-perl (0.78-2build1) ...\n",
            "Selecting previously unselected package libcgi-fast-perl.\n",
            "Preparing to unpack .../10-libcgi-fast-perl_1%3a2.13-1_all.deb ...\n",
            "Unpacking libcgi-fast-perl (1:2.13-1) ...\n",
            "Selecting previously unselected package libencode-locale-perl.\n",
            "Preparing to unpack .../11-libencode-locale-perl_1.05-1_all.deb ...\n",
            "Unpacking libencode-locale-perl (1.05-1) ...\n",
            "Selecting previously unselected package libhtml-template-perl.\n",
            "Preparing to unpack .../12-libhtml-template-perl_2.97-1_all.deb ...\n",
            "Unpacking libhtml-template-perl (2.97-1) ...\n",
            "Selecting previously unselected package libtimedate-perl.\n",
            "Preparing to unpack .../13-libtimedate-perl_2.3000-2_all.deb ...\n",
            "Unpacking libtimedate-perl (2.3000-2) ...\n",
            "Selecting previously unselected package libhttp-date-perl.\n",
            "Preparing to unpack .../14-libhttp-date-perl_6.02-1_all.deb ...\n",
            "Unpacking libhttp-date-perl (6.02-1) ...\n",
            "Selecting previously unselected package libio-html-perl.\n",
            "Preparing to unpack .../15-libio-html-perl_1.001-1_all.deb ...\n",
            "Unpacking libio-html-perl (1.001-1) ...\n",
            "Selecting previously unselected package liblwp-mediatypes-perl.\n",
            "Preparing to unpack .../16-liblwp-mediatypes-perl_6.02-1_all.deb ...\n",
            "Unpacking liblwp-mediatypes-perl (6.02-1) ...\n",
            "Selecting previously unselected package libhttp-message-perl.\n",
            "Preparing to unpack .../17-libhttp-message-perl_6.14-1_all.deb ...\n",
            "Unpacking libhttp-message-perl (6.14-1) ...\n",
            "Selecting previously unselected package mysql-client.\n",
            "Preparing to unpack .../18-mysql-client_5.7.37-0ubuntu0.18.04.1_all.deb ...\n",
            "Unpacking mysql-client (5.7.37-0ubuntu0.18.04.1) ...\n",
            "Selecting previously unselected package mysql-server.\n",
            "Preparing to unpack .../19-mysql-server_5.7.37-0ubuntu0.18.04.1_all.deb ...\n",
            "Unpacking mysql-server (5.7.37-0ubuntu0.18.04.1) ...\n",
            "Setting up libhtml-tagset-perl (3.20-3) ...\n",
            "Setting up libevent-core-2.1-6:amd64 (2.1.8-stable-4build1) ...\n",
            "Setting up libencode-locale-perl (1.05-1) ...\n",
            "Setting up mysql-server-core-5.7 (5.7.37-0ubuntu0.18.04.1) ...\n",
            "Setting up libtimedate-perl (2.3000-2) ...\n",
            "Setting up libio-html-perl (1.001-1) ...\n",
            "Setting up liblwp-mediatypes-perl (6.02-1) ...\n",
            "Setting up liburi-perl (1.73-1) ...\n",
            "Setting up libhtml-parser-perl (3.72-3build1) ...\n",
            "Setting up libcgi-pm-perl (4.38-1) ...\n",
            "Setting up mysql-client-core-5.7 (5.7.37-0ubuntu0.18.04.1) ...\n",
            "Setting up libfcgi-perl (0.78-2build1) ...\n",
            "Setting up libhttp-date-perl (6.02-1) ...\n",
            "Setting up libhtml-template-perl (2.97-1) ...\n",
            "Setting up libcgi-fast-perl (1:2.13-1) ...\n",
            "Setting up libhttp-message-perl (6.14-1) ...\n",
            "Setting up mysql-client-5.7 (5.7.37-0ubuntu0.18.04.1) ...\n",
            "Setting up mysql-client (5.7.37-0ubuntu0.18.04.1) ...\n",
            "Setting up mysql-server-5.7 (5.7.37-0ubuntu0.18.04.1) ...\n",
            "debconf: unable to initialize frontend: Dialog\n",
            "debconf: (No usable dialog-like program is installed, so the dialog based frontend cannot be used. at /usr/share/perl5/Debconf/FrontEnd/Dialog.pm line 76.)\n",
            "debconf: falling back to frontend: Readline\n",
            "invoke-rc.d: could not determine current runlevel\n",
            "invoke-rc.d: policy-rc.d denied execution of stop.\n",
            "update-alternatives: using /etc/mysql/mysql.cnf to provide /etc/mysql/my.cnf (my.cnf) in auto mode\n",
            "Renaming removed key_buffer and myisam-recover options (if present)\n",
            "Created symlink /etc/systemd/system/multi-user.target.wants/mysql.service → /lib/systemd/system/mysql.service.\n",
            "invoke-rc.d: could not determine current runlevel\n",
            "invoke-rc.d: policy-rc.d denied execution of start.\n",
            "Setting up mysql-server (5.7.37-0ubuntu0.18.04.1) ...\n",
            "Processing triggers for systemd (237-3ubuntu10.53) ...\n",
            "Processing triggers for man-db (2.8.3-2ubuntu0.1) ...\n",
            "Processing triggers for libc-bin (2.27-3ubuntu1.3) ...\n",
            "/sbin/ldconfig.real: /usr/local/lib/python3.7/dist-packages/ideep4py/lib/libmkldnn.so.0 is not a symbolic link\n",
            "\n"
          ]
        }
      ],
      "source": [
        "!sudo apt update\n",
        "!sudo apt install mysql-server mysql-client"
      ]
    },
    {
      "cell_type": "code",
      "execution_count": 5,
      "metadata": {
        "colab": {
          "base_uri": "https://localhost:8080/"
        },
        "id": "dJPGI5UfhjGF",
        "outputId": "712298d2-ef48-4ee0-ca49-3468e080973c"
      },
      "outputs": [
        {
          "name": "stdout",
          "output_type": "stream",
          "text": [
            "mysql  Ver 14.14 Distrib 5.7.37, for Linux (x86_64) using  EditLine wrapper\n"
          ]
        }
      ],
      "source": [
        "!mysql --version"
      ]
    },
    {
      "cell_type": "markdown",
      "metadata": {
        "id": "qVY52zRaGNtO"
      },
      "source": [
        "## MySQLの立ち上げ"
      ]
    },
    {
      "cell_type": "code",
      "execution_count": 23,
      "metadata": {
        "colab": {
          "base_uri": "https://localhost:8080/"
        },
        "id": "hgtS1QznLfuM",
        "outputId": "08c32970-444b-4583-f355-bafb152e70ed"
      },
      "outputs": [
        {
          "name": "stdout",
          "output_type": "stream",
          "text": [
            " * Starting MySQL database server mysqld\n",
            "No directory, logging in with HOME=/\n",
            "   ...done.\n"
          ]
        }
      ],
      "source": [
        "!service mysql start"
      ]
    },
    {
      "cell_type": "code",
      "execution_count": 7,
      "metadata": {
        "colab": {
          "base_uri": "https://localhost:8080/"
        },
        "id": "sRVO007ujHxG",
        "outputId": "77eeb133-5d16-4e93-f4a1-70924a24538b"
      },
      "outputs": [
        {
          "name": "stdout",
          "output_type": "stream",
          "text": [
            " * /usr/bin/mysqladmin  Ver 8.42 Distrib 5.7.37, for Linux on x86_64\n",
            "Copyright (c) 2000, 2022, Oracle and/or its affiliates.\n",
            "\n",
            "Oracle is a registered trademark of Oracle Corporation and/or its\n",
            "affiliates. Other names may be trademarks of their respective\n",
            "owners.\n",
            "\n",
            "Server version\t\t5.7.37-0ubuntu0.18.04.1\n",
            "Protocol version\t10\n",
            "Connection\t\tLocalhost via UNIX socket\n",
            "UNIX socket\t\t/var/run/mysqld/mysqld.sock\n",
            "Uptime:\t\t\t1 sec\n",
            "\n",
            "Threads: 1  Questions: 8  Slow queries: 0  Opens: 105  Flush tables: 1  Open tables: 98  Queries per second avg: 8.000\n"
          ]
        }
      ],
      "source": [
        "!service mysql status"
      ]
    },
    {
      "cell_type": "markdown",
      "metadata": {
        "id": "e3U353jCG9z-"
      },
      "source": [
        "## DB作成"
      ]
    },
    {
      "cell_type": "code",
      "execution_count": 8,
      "metadata": {
        "id": "24FiGCQpbrZ7"
      },
      "outputs": [],
      "source": [
        "!echo \"create database db\" | mysql"
      ]
    },
    {
      "cell_type": "markdown",
      "metadata": {
        "id": "55AM6XT7HDr9"
      },
      "source": [
        "## Pythonクライアントのインストール"
      ]
    },
    {
      "cell_type": "code",
      "execution_count": 9,
      "metadata": {
        "colab": {
          "base_uri": "https://localhost:8080/"
        },
        "id": "wWBpoxVmjRTC",
        "outputId": "ab661f1f-7da8-42cc-dbf3-77b2d674e7ec"
      },
      "outputs": [
        {
          "name": "stdout",
          "output_type": "stream",
          "text": [
            "Collecting mysqlclient\n",
            "  Downloading mysqlclient-2.1.0.tar.gz (87 kB)\n",
            "\u001b[?25l\r\u001b[K     |███▊                            | 10 kB 19.3 MB/s eta 0:00:01\r\u001b[K     |███████▌                        | 20 kB 9.2 MB/s eta 0:00:01\r\u001b[K     |███████████▏                    | 30 kB 6.6 MB/s eta 0:00:01\r\u001b[K     |███████████████                 | 40 kB 3.6 MB/s eta 0:00:01\r\u001b[K     |██████████████████▊             | 51 kB 3.5 MB/s eta 0:00:01\r\u001b[K     |██████████████████████▍         | 61 kB 4.1 MB/s eta 0:00:01\r\u001b[K     |██████████████████████████▏     | 71 kB 4.4 MB/s eta 0:00:01\r\u001b[K     |██████████████████████████████  | 81 kB 4.9 MB/s eta 0:00:01\r\u001b[K     |████████████████████████████████| 87 kB 2.6 MB/s \n",
            "\u001b[?25hBuilding wheels for collected packages: mysqlclient\n",
            "  Building wheel for mysqlclient (setup.py) ... \u001b[?25l\u001b[?25hdone\n",
            "  Created wheel for mysqlclient: filename=mysqlclient-2.1.0-cp37-cp37m-linux_x86_64.whl size=99973 sha256=647ead8cd2fcd246b56437b2a8105d9cb617356ee0849b62cfd026f7eea2c630\n",
            "  Stored in directory: /root/.cache/pip/wheels/97/d4/df/08cd6e1fa4a8691b268ab254bd0fa589827ab5b65638c010b4\n",
            "Successfully built mysqlclient\n",
            "Installing collected packages: mysqlclient\n",
            "Successfully installed mysqlclient-2.1.0\n"
          ]
        }
      ],
      "source": [
        "!pip install mysqlclient"
      ]
    },
    {
      "cell_type": "markdown",
      "metadata": {
        "id": "oZzcOXj4HIOj"
      },
      "source": [
        " ## データのインポート\n",
        "\n",
        "テーブルを作成して、データを50万件登録します。10分ほど時間がかかります。"
      ]
    },
    {
      "cell_type": "code",
      "execution_count": 10,
      "metadata": {
        "colab": {
          "base_uri": "https://localhost:8080/",
          "height": 49,
          "referenced_widgets": [
            "274597dc3cc94406ba03457ecc533505",
            "d667005f16f046ecb27362a8f1470897",
            "0483516bab894e0988a7cd47e90ce7f0",
            "84b50f35e71841eb87381601edf16073",
            "2c0c9c516a2b4538a037a1933ea5474e",
            "917c6aa27913496ca14d22ba0a1856d9",
            "a51c45cb1fb54146913b33d2636ca7c6",
            "8f2924c307f24cb381c47c4d6d9f5f3e",
            "388732481d214eddab025d6e755ac6bd",
            "3417b88852d24f139e14720710cd1d91",
            "88bcb8874d7743e1b5a52cf1a64fec4c"
          ]
        },
        "id": "irdCqoI0cD95",
        "outputId": "7dd862a0-7567-4764-9374-7432e3238df7"
      },
      "outputs": [
        {
          "data": {
            "application/vnd.jupyter.widget-view+json": {
              "model_id": "274597dc3cc94406ba03457ecc533505",
              "version_major": 2,
              "version_minor": 0
            },
            "text/plain": [
              "  0%|          | 0/750000.0 [00:00<?, ?it/s]"
            ]
          },
          "metadata": {},
          "output_type": "display_data"
        }
      ],
      "source": [
        "import MySQLdb\n",
        "import json\n",
        "import bz2\n",
        "from tqdm.notebook import tqdm\n",
        "\n",
        "db = MySQLdb.connect(host='localhost', user='root', db='db', charset='utf8mb4')\n",
        "cursor = db.cursor()\n",
        "\n",
        "cursor.execute('drop table if exists wiki_jp')\n",
        "cursor.execute('create table wiki_jp('\n",
        " 'id bigint unsigned not null auto_increment primary key,'\n",
        " 'title tinytext collate utf8mb4_unicode_ci storage memory,'\n",
        " 'body mediumtext collate utf8mb4_unicode_ci storage memory)')\n",
        "\n",
        "limit = 500000\n",
        "insert_wiki = 'insert into wiki_jp (title, body) values (%s, %s);'\n",
        "\n",
        "with bz2.open('/content/drive/MyDrive/wiki.json.bz2', 'rt', encoding='utf-8') as fin:\n",
        "    n = 0\n",
        "    for line in tqdm(fin, total=limit*1.5):\n",
        "        data = json.loads(line)\n",
        "        title = data['title'].strip()\n",
        "        body = data['text'].replace('\\n', '')\n",
        "        if len(title) > 0 and len(body) > 0:\n",
        "            cursor.execute(insert_wiki, (title, body))\n",
        "            n += 1\n",
        "        if n == limit:\n",
        "            break\n",
        "db.commit()\n",
        "db.close()"
      ]
    },
    {
      "cell_type": "markdown",
      "metadata": {
        "id": "jpyU-nGKJnFb"
      },
      "source": [
        "テーブル定義を確認します。"
      ]
    },
    {
      "cell_type": "code",
      "execution_count": 11,
      "metadata": {
        "colab": {
          "base_uri": "https://localhost:8080/"
        },
        "id": "T93RUi2_g1OP",
        "outputId": "e3bab06b-c880-406f-c77d-31af089b1e94"
      },
      "outputs": [
        {
          "name": "stdout",
          "output_type": "stream",
          "text": [
            "Field\tType\tNull\tKey\tDefault\tExtra\n",
            "id\tbigint(20) unsigned\tNO\tPRI\tNULL\tauto_increment\n",
            "title\ttinytext\tYES\t\tNULL\t\n",
            "body\tmediumtext\tYES\t\tNULL\t\n"
          ]
        }
      ],
      "source": [
        "!echo \"show columns from db.wiki_jp\" | mysql"
      ]
    },
    {
      "cell_type": "markdown",
      "metadata": {
        "id": "Ycuf9PjwJskZ"
      },
      "source": [
        "登録件数を確認します。"
      ]
    },
    {
      "cell_type": "code",
      "execution_count": 12,
      "metadata": {
        "colab": {
          "base_uri": "https://localhost:8080/"
        },
        "id": "2czdK07q1tex",
        "outputId": "fb4a4041-4b20-4b56-a099-7e4469549e58"
      },
      "outputs": [
        {
          "name": "stdout",
          "output_type": "stream",
          "text": [
            "count(*)\n",
            "500000\n"
          ]
        }
      ],
      "source": [
        "!echo \"select count(*) from db.wiki_jp\" | mysql"
      ]
    },
    {
      "cell_type": "markdown",
      "metadata": {
        "id": "A_BknkylHgCU"
      },
      "source": [
        "## インデックスを使わない検索\n",
        "\n",
        "like検索でシーケンシャルに検索した場合を測定します。mysqlコマンドに-vvvオプションを付けると、出力の最後から3行目にマッチ数と処理時間が出力されるので、その部分だけをtailコマンドとheadコマンドで切り出しています。"
      ]
    },
    {
      "cell_type": "markdown",
      "metadata": {
        "id": "jw6H3DZsOFoy"
      },
      "source": [
        "まずはインデックスを使っていないことを確認します。"
      ]
    },
    {
      "cell_type": "code",
      "execution_count": 13,
      "metadata": {
        "colab": {
          "base_uri": "https://localhost:8080/"
        },
        "id": "ivJB8-7t-HO7",
        "outputId": "7bee2411-ab72-4e80-8a48-8ca01b0fe7c2"
      },
      "outputs": [
        {
          "name": "stdout",
          "output_type": "stream",
          "text": [
            "id\tselect_type\ttable\tpartitions\ttype\tpossible_keys\tkey\tkey_len\tref\trows\tfiltered\tExtra\n",
            "1\tSIMPLE\twiki_jp\tNULL\tALL\tNULL\tNULL\tNULL\tNULL\t377812\t11.11\tUsing where\n"
          ]
        }
      ],
      "source": [
        "!echo \"explain select sql_no_cache * from db.wiki_jp where body like '%日本語%'\" | mysql"
      ]
    },
    {
      "cell_type": "markdown",
      "metadata": {
        "id": "qpq5K19xONSz"
      },
      "source": [
        "bodyに「日本語」を含むレコードの数を取得します。"
      ]
    },
    {
      "cell_type": "code",
      "execution_count": 14,
      "metadata": {
        "colab": {
          "base_uri": "https://localhost:8080/"
        },
        "id": "VIorUUTdLFQs",
        "outputId": "6e3a7860-e8c3-4ac0-c9d6-7ddf1a55ce1a"
      },
      "outputs": [
        {
          "name": "stdout",
          "output_type": "stream",
          "text": [
            "--------------\n",
            "select sql_no_cache count(*) from db.wiki_jp where body like '%日本語%'\n",
            "--------------\n",
            "\n",
            "+----------+\n",
            "| count(*) |\n",
            "+----------+\n",
            "|    17006 |\n",
            "+----------+\n",
            "1 row in set, 1 warning (11.47 sec)\n",
            "\n",
            "Bye\n",
            "CPU times: user 107 ms, sys: 19.5 ms, total: 127 ms\n",
            "Wall time: 11.6 s\n"
          ]
        }
      ],
      "source": [
        "%%time\n",
        "!echo \"select sql_no_cache count(*) from db.wiki_jp where body like '%日本語%'\" | mysql -vvv"
      ]
    },
    {
      "cell_type": "markdown",
      "metadata": {
        "id": "0TS5zuwjOWg0"
      },
      "source": [
        "bodyに「日本語」を含むレコードを取得します。"
      ]
    },
    {
      "cell_type": "code",
      "execution_count": 15,
      "metadata": {
        "colab": {
          "base_uri": "https://localhost:8080/"
        },
        "id": "MNrr-2hQvYf-",
        "outputId": "cf7117dd-61df-440c-a51f-2ca59d8d86dc"
      },
      "outputs": [
        {
          "name": "stdout",
          "output_type": "stream",
          "text": [
            "17006 rows in set, 1 warning (10.29 sec)\n",
            "CPU times: user 103 ms, sys: 22.8 ms, total: 126 ms\n",
            "Wall time: 13.6 s\n"
          ]
        }
      ],
      "source": [
        "%%time\n",
        "!echo \"select sql_no_cache * from db.wiki_jp where body like '%日本語%'\" | mysql -vvv | tail -3 | head -1"
      ]
    },
    {
      "cell_type": "markdown",
      "metadata": {
        "id": "aD6ga6i5LPT7"
      },
      "source": [
        "2回目"
      ]
    },
    {
      "cell_type": "code",
      "execution_count": 16,
      "metadata": {
        "colab": {
          "base_uri": "https://localhost:8080/"
        },
        "id": "R7pt-9KgZO5X",
        "outputId": "2aecf108-ed73-441c-aa6c-04446198a551"
      },
      "outputs": [
        {
          "name": "stdout",
          "output_type": "stream",
          "text": [
            "17006 rows in set, 1 warning (10.03 sec)\n",
            "CPU times: user 110 ms, sys: 19.3 ms, total: 129 ms\n",
            "Wall time: 13.7 s\n"
          ]
        }
      ],
      "source": [
        "%%time\n",
        "!echo \"select sql_no_cache * from db.wiki_jp where body like '%日本語%'\" | mysql -vvv | tail -3 | head -1"
      ]
    },
    {
      "cell_type": "markdown",
      "metadata": {
        "id": "f4FwOBBcOh-p"
      },
      "source": [
        "インデックスを使わない場合、単に数を集計するだけでもbodyにアクセスしなければならないので、処理時間はあまり変わりません。"
      ]
    },
    {
      "cell_type": "markdown",
      "metadata": {
        "id": "BJbvluZHHl5R"
      },
      "source": [
        "## 全文検索用インデックスの作成"
      ]
    },
    {
      "cell_type": "markdown",
      "metadata": {
        "id": "K0pm-oefLPES"
      },
      "source": [
        "インデックスの作成には60分ほどかかります。"
      ]
    },
    {
      "cell_type": "code",
      "execution_count": 17,
      "metadata": {
        "colab": {
          "base_uri": "https://localhost:8080/"
        },
        "id": "peb32ohOCHoE",
        "outputId": "5e418651-987e-490b-a535-bbee683ac30b"
      },
      "outputs": [
        {
          "name": "stdout",
          "output_type": "stream",
          "text": [
            "--------------\n",
            "alter table db.wiki_jp add fulltext index ngram_idx (body) with parser ngram\n",
            "--------------\n",
            "\n",
            "Query OK, 0 rows affected, 1 warning (53 min 34.85 sec)\n",
            "Records: 0  Duplicates: 0  Warnings: 1\n",
            "\n",
            "Bye\n"
          ]
        }
      ],
      "source": [
        "!echo \"alter table db.wiki_jp add fulltext index ngram_idx (body) with parser ngram\" | mysql -vvv"
      ]
    },
    {
      "cell_type": "markdown",
      "metadata": {
        "id": "pTaLmCjpHtcB"
      },
      "source": [
        "## インデックスを使った検索"
      ]
    },
    {
      "cell_type": "markdown",
      "metadata": {
        "id": "2eir4K45Owl2"
      },
      "source": [
        "まずはインデックスを使っていることを確認します。"
      ]
    },
    {
      "cell_type": "code",
      "execution_count": 18,
      "metadata": {
        "colab": {
          "base_uri": "https://localhost:8080/"
        },
        "id": "hW9v-JHF9-B-",
        "outputId": "05565c67-2bad-4837-9a02-2917750e5aaf"
      },
      "outputs": [
        {
          "name": "stdout",
          "output_type": "stream",
          "text": [
            "id\tselect_type\ttable\tpartitions\ttype\tpossible_keys\tkey\tkey_len\tref\trows\tfiltered\tExtra\n",
            "1\tSIMPLE\twiki_jp\tNULL\tfulltext\tngram_idx\tngram_idx\t0\tconst\t1\t100.00\tUsing where; Ft_hints: no_ranking\n"
          ]
        }
      ],
      "source": [
        "!echo \"explain select sql_no_cache * from db.wiki_jp where match (body) against ('日本語' in boolean mode)\" | mysql"
      ]
    },
    {
      "cell_type": "markdown",
      "metadata": {
        "id": "JjIha5vfO1Wd"
      },
      "source": [
        "bodyに「日本語」を含むレコードの数を取得します。"
      ]
    },
    {
      "cell_type": "code",
      "execution_count": 19,
      "metadata": {
        "colab": {
          "base_uri": "https://localhost:8080/"
        },
        "id": "_6ZJk3pjLZUc",
        "outputId": "da6cea0a-7f54-4208-ef3a-f1cce33fc96b"
      },
      "outputs": [
        {
          "name": "stdout",
          "output_type": "stream",
          "text": [
            "--------------\n",
            "select sql_no_cache count(*) from db.wiki_jp where match (body) against ('日本語' in boolean mode)\n",
            "--------------\n",
            "\n",
            "+----------+\n",
            "| count(*) |\n",
            "+----------+\n",
            "|    17006 |\n",
            "+----------+\n",
            "1 row in set, 1 warning (2.45 sec)\n",
            "\n",
            "Bye\n",
            "CPU times: user 22.2 ms, sys: 12 ms, total: 34.2 ms\n",
            "Wall time: 2.53 s\n"
          ]
        }
      ],
      "source": [
        "%%time\n",
        "!echo \"select sql_no_cache count(*) from db.wiki_jp where match (body) against ('日本語' in boolean mode)\" | mysql -vvv"
      ]
    },
    {
      "cell_type": "markdown",
      "metadata": {
        "id": "SzJ44RdlO8sr"
      },
      "source": [
        "bodyに「日本語」を含むレコードを取得します。"
      ]
    },
    {
      "cell_type": "code",
      "execution_count": 20,
      "metadata": {
        "colab": {
          "base_uri": "https://localhost:8080/"
        },
        "id": "_zBzLNgo56lO",
        "outputId": "a24295bf-3439-40c1-ae35-96a81ffe2b5b"
      },
      "outputs": [
        {
          "name": "stdout",
          "output_type": "stream",
          "text": [
            "17006 rows in set, 1 warning (4.31 sec)\n",
            "CPU times: user 73.3 ms, sys: 14.2 ms, total: 87.5 ms\n",
            "Wall time: 8.05 s\n"
          ]
        }
      ],
      "source": [
        "%%time\n",
        "!echo \"select sql_no_cache * from db.wiki_jp where match (body) against ('日本語' in boolean mode)\" | mysql -vvv | tail -3 | head -1"
      ]
    },
    {
      "cell_type": "markdown",
      "metadata": {
        "id": "CDXnAeIgLXL8"
      },
      "source": [
        "2回目"
      ]
    },
    {
      "cell_type": "code",
      "execution_count": 21,
      "metadata": {
        "colab": {
          "base_uri": "https://localhost:8080/"
        },
        "id": "4G5ak4SPZEkj",
        "outputId": "cdcc68e9-68a9-45e4-d18d-37efaaaf8595"
      },
      "outputs": [
        {
          "name": "stdout",
          "output_type": "stream",
          "text": [
            "17006 rows in set, 1 warning (3.97 sec)\n",
            "CPU times: user 60.8 ms, sys: 14.2 ms, total: 75 ms\n",
            "Wall time: 7.65 s\n"
          ]
        }
      ],
      "source": [
        "%%time\n",
        "!echo \"select sql_no_cache * from db.wiki_jp where match (body) against ('日本語' in boolean mode)\" | mysql -vvv | tail -3 | head -1"
      ]
    },
    {
      "cell_type": "markdown",
      "metadata": {
        "id": "WqQeRdSUbtAL"
      },
      "source": [
        "数の集計はまあまあ速いですが、他と比べると断然遅い。数の集計の場合でもインデックスだけで処理が済まず、bodyにアクセスしているのかもしれません。インデックスを使っても、使わない場合の半分にもならないのはいかがなものかと。\n",
        "\n"
      ]
    },
    {
      "cell_type": "markdown",
      "metadata": {
        "id": "SkT9BK7BP7H4"
      },
      "source": [
        "参考までにidとtitleのみを取得してみます。"
      ]
    },
    {
      "cell_type": "code",
      "execution_count": 24,
      "metadata": {
        "colab": {
          "base_uri": "https://localhost:8080/"
        },
        "id": "XJoT4LaNQGf3",
        "outputId": "64885a21-dad1-49c2-9f4e-d0626d4ba49c"
      },
      "outputs": [
        {
          "name": "stdout",
          "output_type": "stream",
          "text": [
            "17006 rows in set, 1 warning (3.03 sec)\n",
            "CPU times: user 33.8 ms, sys: 6.21 ms, total: 40 ms\n",
            "Wall time: 3.13 s\n"
          ]
        }
      ],
      "source": [
        "%%time\n",
        "!echo \"select sql_no_cache id title from db.wiki_jp where match (body) against ('日本語' in boolean mode)\" | mysql -vvv | tail -3 | head -1"
      ]
    },
    {
      "cell_type": "markdown",
      "metadata": {
        "id": "geYo4KaUch-N"
      },
      "source": [
        "大して速くなりません。これはMySQLの欠点と言っても過言ではありませんね。"
      ]
    },
    {
      "cell_type": "markdown",
      "metadata": {
        "id": "Wy0d7eiKH4H5"
      },
      "source": [
        "## DBの停止"
      ]
    },
    {
      "cell_type": "code",
      "execution_count": 22,
      "metadata": {
        "colab": {
          "base_uri": "https://localhost:8080/"
        },
        "id": "g2ovVFGW29Mt",
        "outputId": "c32b4f03-4b29-45f4-fc50-e4752864fd5d"
      },
      "outputs": [
        {
          "name": "stdout",
          "output_type": "stream",
          "text": [
            " * Stopping MySQL database server mysqld\n",
            "   ...done.\n"
          ]
        }
      ],
      "source": [
        "!service mysql stop"
      ]
    }
  ],
  "metadata": {
    "colab": {
      "collapsed_sections": [
        "GQ53mxqQFWNP",
        "e3U353jCG9z-",
        "55AM6XT7HDr9"
      ],
      "name": "全文検索_MySQL.ipynb",
      "provenance": []
    },
    "kernelspec": {
      "display_name": "Python 3",
      "name": "python3"
    },
    "language_info": {
      "name": "python"
    },
    "widgets": {
      "application/vnd.jupyter.widget-state+json": {
        "0483516bab894e0988a7cd47e90ce7f0": {
          "model_module": "@jupyter-widgets/controls",
          "model_module_version": "1.5.0",
          "model_name": "HTMLModel",
          "state": {
            "_dom_classes": [],
            "_model_module": "@jupyter-widgets/controls",
            "_model_module_version": "1.5.0",
            "_model_name": "HTMLModel",
            "_view_count": null,
            "_view_module": "@jupyter-widgets/controls",
            "_view_module_version": "1.5.0",
            "_view_name": "HTMLView",
            "description": "",
            "description_tooltip": null,
            "layout": "IPY_MODEL_a51c45cb1fb54146913b33d2636ca7c6",
            "placeholder": "​",
            "style": "IPY_MODEL_917c6aa27913496ca14d22ba0a1856d9",
            "value": ""
          }
        },
        "274597dc3cc94406ba03457ecc533505": {
          "model_module": "@jupyter-widgets/controls",
          "model_module_version": "1.5.0",
          "model_name": "HBoxModel",
          "state": {
            "_dom_classes": [],
            "_model_module": "@jupyter-widgets/controls",
            "_model_module_version": "1.5.0",
            "_model_name": "HBoxModel",
            "_view_count": null,
            "_view_module": "@jupyter-widgets/controls",
            "_view_module_version": "1.5.0",
            "_view_name": "HBoxView",
            "box_style": "",
            "children": [
              "IPY_MODEL_0483516bab894e0988a7cd47e90ce7f0",
              "IPY_MODEL_84b50f35e71841eb87381601edf16073",
              "IPY_MODEL_2c0c9c516a2b4538a037a1933ea5474e"
            ],
            "layout": "IPY_MODEL_d667005f16f046ecb27362a8f1470897"
          }
        },
        "2c0c9c516a2b4538a037a1933ea5474e": {
          "model_module": "@jupyter-widgets/controls",
          "model_module_version": "1.5.0",
          "model_name": "HTMLModel",
          "state": {
            "_dom_classes": [],
            "_model_module": "@jupyter-widgets/controls",
            "_model_module_version": "1.5.0",
            "_model_name": "HTMLModel",
            "_view_count": null,
            "_view_module": "@jupyter-widgets/controls",
            "_view_module_version": "1.5.0",
            "_view_name": "HTMLView",
            "description": "",
            "description_tooltip": null,
            "layout": "IPY_MODEL_88bcb8874d7743e1b5a52cf1a64fec4c",
            "placeholder": "​",
            "style": "IPY_MODEL_3417b88852d24f139e14720710cd1d91",
            "value": " 779788/? [10:05&lt;00:00, 1778.33it/s]"
          }
        },
        "3417b88852d24f139e14720710cd1d91": {
          "model_module": "@jupyter-widgets/controls",
          "model_module_version": "1.5.0",
          "model_name": "DescriptionStyleModel",
          "state": {
            "_model_module": "@jupyter-widgets/controls",
            "_model_module_version": "1.5.0",
            "_model_name": "DescriptionStyleModel",
            "_view_count": null,
            "_view_module": "@jupyter-widgets/base",
            "_view_module_version": "1.2.0",
            "_view_name": "StyleView",
            "description_width": ""
          }
        },
        "388732481d214eddab025d6e755ac6bd": {
          "model_module": "@jupyter-widgets/base",
          "model_module_version": "1.2.0",
          "model_name": "LayoutModel",
          "state": {
            "_model_module": "@jupyter-widgets/base",
            "_model_module_version": "1.2.0",
            "_model_name": "LayoutModel",
            "_view_count": null,
            "_view_module": "@jupyter-widgets/base",
            "_view_module_version": "1.2.0",
            "_view_name": "LayoutView",
            "align_content": null,
            "align_items": null,
            "align_self": null,
            "border": null,
            "bottom": null,
            "display": null,
            "flex": null,
            "flex_flow": null,
            "grid_area": null,
            "grid_auto_columns": null,
            "grid_auto_flow": null,
            "grid_auto_rows": null,
            "grid_column": null,
            "grid_gap": null,
            "grid_row": null,
            "grid_template_areas": null,
            "grid_template_columns": null,
            "grid_template_rows": null,
            "height": null,
            "justify_content": null,
            "justify_items": null,
            "left": null,
            "margin": null,
            "max_height": null,
            "max_width": null,
            "min_height": null,
            "min_width": null,
            "object_fit": null,
            "object_position": null,
            "order": null,
            "overflow": null,
            "overflow_x": null,
            "overflow_y": null,
            "padding": null,
            "right": null,
            "top": null,
            "visibility": null,
            "width": null
          }
        },
        "84b50f35e71841eb87381601edf16073": {
          "model_module": "@jupyter-widgets/controls",
          "model_module_version": "1.5.0",
          "model_name": "FloatProgressModel",
          "state": {
            "_dom_classes": [],
            "_model_module": "@jupyter-widgets/controls",
            "_model_module_version": "1.5.0",
            "_model_name": "FloatProgressModel",
            "_view_count": null,
            "_view_module": "@jupyter-widgets/controls",
            "_view_module_version": "1.5.0",
            "_view_name": "ProgressView",
            "bar_style": "danger",
            "description": "",
            "description_tooltip": null,
            "layout": "IPY_MODEL_388732481d214eddab025d6e755ac6bd",
            "max": 750000,
            "min": 0,
            "orientation": "horizontal",
            "style": "IPY_MODEL_8f2924c307f24cb381c47c4d6d9f5f3e",
            "value": 750000
          }
        },
        "88bcb8874d7743e1b5a52cf1a64fec4c": {
          "model_module": "@jupyter-widgets/base",
          "model_module_version": "1.2.0",
          "model_name": "LayoutModel",
          "state": {
            "_model_module": "@jupyter-widgets/base",
            "_model_module_version": "1.2.0",
            "_model_name": "LayoutModel",
            "_view_count": null,
            "_view_module": "@jupyter-widgets/base",
            "_view_module_version": "1.2.0",
            "_view_name": "LayoutView",
            "align_content": null,
            "align_items": null,
            "align_self": null,
            "border": null,
            "bottom": null,
            "display": null,
            "flex": null,
            "flex_flow": null,
            "grid_area": null,
            "grid_auto_columns": null,
            "grid_auto_flow": null,
            "grid_auto_rows": null,
            "grid_column": null,
            "grid_gap": null,
            "grid_row": null,
            "grid_template_areas": null,
            "grid_template_columns": null,
            "grid_template_rows": null,
            "height": null,
            "justify_content": null,
            "justify_items": null,
            "left": null,
            "margin": null,
            "max_height": null,
            "max_width": null,
            "min_height": null,
            "min_width": null,
            "object_fit": null,
            "object_position": null,
            "order": null,
            "overflow": null,
            "overflow_x": null,
            "overflow_y": null,
            "padding": null,
            "right": null,
            "top": null,
            "visibility": null,
            "width": null
          }
        },
        "8f2924c307f24cb381c47c4d6d9f5f3e": {
          "model_module": "@jupyter-widgets/controls",
          "model_module_version": "1.5.0",
          "model_name": "ProgressStyleModel",
          "state": {
            "_model_module": "@jupyter-widgets/controls",
            "_model_module_version": "1.5.0",
            "_model_name": "ProgressStyleModel",
            "_view_count": null,
            "_view_module": "@jupyter-widgets/base",
            "_view_module_version": "1.2.0",
            "_view_name": "StyleView",
            "bar_color": null,
            "description_width": ""
          }
        },
        "917c6aa27913496ca14d22ba0a1856d9": {
          "model_module": "@jupyter-widgets/controls",
          "model_module_version": "1.5.0",
          "model_name": "DescriptionStyleModel",
          "state": {
            "_model_module": "@jupyter-widgets/controls",
            "_model_module_version": "1.5.0",
            "_model_name": "DescriptionStyleModel",
            "_view_count": null,
            "_view_module": "@jupyter-widgets/base",
            "_view_module_version": "1.2.0",
            "_view_name": "StyleView",
            "description_width": ""
          }
        },
        "a51c45cb1fb54146913b33d2636ca7c6": {
          "model_module": "@jupyter-widgets/base",
          "model_module_version": "1.2.0",
          "model_name": "LayoutModel",
          "state": {
            "_model_module": "@jupyter-widgets/base",
            "_model_module_version": "1.2.0",
            "_model_name": "LayoutModel",
            "_view_count": null,
            "_view_module": "@jupyter-widgets/base",
            "_view_module_version": "1.2.0",
            "_view_name": "LayoutView",
            "align_content": null,
            "align_items": null,
            "align_self": null,
            "border": null,
            "bottom": null,
            "display": null,
            "flex": null,
            "flex_flow": null,
            "grid_area": null,
            "grid_auto_columns": null,
            "grid_auto_flow": null,
            "grid_auto_rows": null,
            "grid_column": null,
            "grid_gap": null,
            "grid_row": null,
            "grid_template_areas": null,
            "grid_template_columns": null,
            "grid_template_rows": null,
            "height": null,
            "justify_content": null,
            "justify_items": null,
            "left": null,
            "margin": null,
            "max_height": null,
            "max_width": null,
            "min_height": null,
            "min_width": null,
            "object_fit": null,
            "object_position": null,
            "order": null,
            "overflow": null,
            "overflow_x": null,
            "overflow_y": null,
            "padding": null,
            "right": null,
            "top": null,
            "visibility": null,
            "width": null
          }
        },
        "d667005f16f046ecb27362a8f1470897": {
          "model_module": "@jupyter-widgets/base",
          "model_module_version": "1.2.0",
          "model_name": "LayoutModel",
          "state": {
            "_model_module": "@jupyter-widgets/base",
            "_model_module_version": "1.2.0",
            "_model_name": "LayoutModel",
            "_view_count": null,
            "_view_module": "@jupyter-widgets/base",
            "_view_module_version": "1.2.0",
            "_view_name": "LayoutView",
            "align_content": null,
            "align_items": null,
            "align_self": null,
            "border": null,
            "bottom": null,
            "display": null,
            "flex": null,
            "flex_flow": null,
            "grid_area": null,
            "grid_auto_columns": null,
            "grid_auto_flow": null,
            "grid_auto_rows": null,
            "grid_column": null,
            "grid_gap": null,
            "grid_row": null,
            "grid_template_areas": null,
            "grid_template_columns": null,
            "grid_template_rows": null,
            "height": null,
            "justify_content": null,
            "justify_items": null,
            "left": null,
            "margin": null,
            "max_height": null,
            "max_width": null,
            "min_height": null,
            "min_width": null,
            "object_fit": null,
            "object_position": null,
            "order": null,
            "overflow": null,
            "overflow_x": null,
            "overflow_y": null,
            "padding": null,
            "right": null,
            "top": null,
            "visibility": null,
            "width": null
          }
        }
      }
    }
  },
  "nbformat": 4,
  "nbformat_minor": 0
}
